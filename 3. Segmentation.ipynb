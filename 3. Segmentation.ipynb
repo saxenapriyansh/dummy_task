{
 "cells": [
  {
   "cell_type": "markdown",
   "id": "b81e4a8e-00e8-49af-afe6-b32adb329251",
   "metadata": {},
   "source": [
    "## 1. Imports"
   ]
  },
  {
   "cell_type": "code",
   "execution_count": 2,
   "id": "438e128e-7029-489d-ad32-94004a58633f",
   "metadata": {},
   "outputs": [],
   "source": [
    "import pandas as pd\n",
    "import numpy as np\n",
    "from datetime import datetime, timedelta"
   ]
  },
  {
   "cell_type": "markdown",
   "id": "b842ebb2-90b1-4409-9116-8d000f347cad",
   "metadata": {},
   "source": [
    "## 2. Read the dataset"
   ]
  },
  {
   "cell_type": "code",
   "execution_count": 3,
   "id": "7c6c0aad-4c8c-45e1-b7f1-e2a645c73596",
   "metadata": {},
   "outputs": [],
   "source": [
    "purchase_history = pd.read_csv('dataset.csv')"
   ]
  },
  {
   "cell_type": "code",
   "execution_count": 4,
   "id": "be9b383d-3c1f-4067-a699-5fb821e3ac28",
   "metadata": {},
   "outputs": [],
   "source": [
    "purchase_history['timestamp'] = purchase_history['timestamp'].apply(lambda x: datetime.strptime(x, '%Y-%m-%d %H:%M:%S.%f') + timedelta(hours=5, minutes=30))"
   ]
  },
  {
   "cell_type": "markdown",
   "id": "b2df4802-6028-474e-a107-d953381ad5e4",
   "metadata": {},
   "source": [
    "## 3. User segmentation"
   ]
  },
  {
   "cell_type": "markdown",
   "id": "a8d95552-05ea-4dd9-a4dc-c1560ae212e3",
   "metadata": {},
   "source": [
    "### 3.1. Based on number of orders"
   ]
  },
  {
   "cell_type": "code",
   "execution_count": 47,
   "id": "64c68175-47e1-40d8-be56-59a2c91e4d95",
   "metadata": {},
   "outputs": [],
   "source": [
    "purchase_history_agg = purchase_history.groupby('user_id').agg({\"purchase_value\":[\"mean\", 'count']}).reset_index(col_level=1)\n",
    "purchase_history_agg.columns = ['user_id', 'aov', 'n_order']"
   ]
  },
  {
   "cell_type": "code",
   "execution_count": 48,
   "id": "7c605ee1-15e1-4520-a4b0-cdc5acb03773",
   "metadata": {},
   "outputs": [
    {
     "data": {
      "text/html": [
       "<div>\n",
       "<style scoped>\n",
       "    .dataframe tbody tr th:only-of-type {\n",
       "        vertical-align: middle;\n",
       "    }\n",
       "\n",
       "    .dataframe tbody tr th {\n",
       "        vertical-align: top;\n",
       "    }\n",
       "\n",
       "    .dataframe thead th {\n",
       "        text-align: right;\n",
       "    }\n",
       "</style>\n",
       "<table border=\"1\" class=\"dataframe\">\n",
       "  <thead>\n",
       "    <tr style=\"text-align: right;\">\n",
       "      <th></th>\n",
       "      <th>quantile</th>\n",
       "      <th>n_orders</th>\n",
       "    </tr>\n",
       "  </thead>\n",
       "  <tbody>\n",
       "    <tr>\n",
       "      <th>0</th>\n",
       "      <td>0.1</td>\n",
       "      <td>1.0</td>\n",
       "    </tr>\n",
       "    <tr>\n",
       "      <th>1</th>\n",
       "      <td>0.2</td>\n",
       "      <td>1.0</td>\n",
       "    </tr>\n",
       "    <tr>\n",
       "      <th>2</th>\n",
       "      <td>0.3</td>\n",
       "      <td>2.0</td>\n",
       "    </tr>\n",
       "    <tr>\n",
       "      <th>3</th>\n",
       "      <td>0.4</td>\n",
       "      <td>2.0</td>\n",
       "    </tr>\n",
       "    <tr>\n",
       "      <th>4</th>\n",
       "      <td>0.5</td>\n",
       "      <td>4.0</td>\n",
       "    </tr>\n",
       "    <tr>\n",
       "      <th>5</th>\n",
       "      <td>0.6</td>\n",
       "      <td>5.0</td>\n",
       "    </tr>\n",
       "    <tr>\n",
       "      <th>6</th>\n",
       "      <td>0.7</td>\n",
       "      <td>8.0</td>\n",
       "    </tr>\n",
       "    <tr>\n",
       "      <th>7</th>\n",
       "      <td>0.8</td>\n",
       "      <td>12.0</td>\n",
       "    </tr>\n",
       "    <tr>\n",
       "      <th>8</th>\n",
       "      <td>0.9</td>\n",
       "      <td>22.0</td>\n",
       "    </tr>\n",
       "    <tr>\n",
       "      <th>9</th>\n",
       "      <td>1.0</td>\n",
       "      <td>301.0</td>\n",
       "    </tr>\n",
       "  </tbody>\n",
       "</table>\n",
       "</div>"
      ],
      "text/plain": [
       "   quantile  n_orders\n",
       "0       0.1       1.0\n",
       "1       0.2       1.0\n",
       "2       0.3       2.0\n",
       "3       0.4       2.0\n",
       "4       0.5       4.0\n",
       "5       0.6       5.0\n",
       "6       0.7       8.0\n",
       "7       0.8      12.0\n",
       "8       0.9      22.0\n",
       "9       1.0     301.0"
      ]
     },
     "execution_count": 48,
     "metadata": {},
     "output_type": "execute_result"
    }
   ],
   "source": [
    "quantile_wise_order_df = purchase_history_agg['n_order'].quantile([i/10 for i in range(1, 11)])\n",
    "quantile_wise_order_df = quantile_wise_order_df.reset_index()\n",
    "quantile_wise_order_df.columns = ['quantile', 'n_orders']\n",
    "quantile_wise_order_df"
   ]
  },
  {
   "cell_type": "code",
   "execution_count": 49,
   "id": "7c05747f-f47d-4723-8ff4-7897aa8c89ef",
   "metadata": {},
   "outputs": [],
   "source": [
    "# Similar to the idea that we used while cohorting the users, now we look at the distribution of users\n",
    "# into different quantiles and classify them into different classes/segments\n",
    "\n",
    "# Here, we see that almost 90% users have total orders less than 22 and only 10% users have total orders greater than 22\n",
    "# Further, lets classify users into 3 buckets based on total orders:\n",
    "\n",
    "# Least frequent users  :       0 < total_orders <= 8  (Bottom 80%)\n",
    "# Average frequent users:       8 < total_orders <= 22 (Next 20%)\n",
    "# Most frequent users   :       22 < total_orders      (Top 10%)"
   ]
  },
  {
   "cell_type": "code",
   "execution_count": 50,
   "id": "760aab91-e3e5-45ed-9b17-ded322ba6b82",
   "metadata": {},
   "outputs": [
    {
     "data": {
      "image/png": "[encoded data removed]",
      "text/plain": [
       "<Figure size 1440x576 with 1 Axes>"
      ]
     },
     "metadata": {
      "needs_background": "light"
     },
     "output_type": "display_data"
    }
   ],
   "source": [
    "quantile_wise_order_df.plot.bar(x='quantile', y='n_orders', figsize=(20,8), grid=True);"
   ]
  },
  {
   "cell_type": "markdown",
   "id": "f0eddea9-b7f8-4ef6-8f7a-761a4d15d7fa",
   "metadata": {},
   "source": [
    "### 3.2. Based on average purchase value"
   ]
  },
  {
   "cell_type": "code",
   "execution_count": 51,
   "id": "a04dd480-4080-4e15-a572-10864123144f",
   "metadata": {},
   "outputs": [
    {
     "data": {
      "text/html": [
       "<div>\n",
       "<style scoped>\n",
       "    .dataframe tbody tr th:only-of-type {\n",
       "        vertical-align: middle;\n",
       "    }\n",
       "\n",
       "    .dataframe tbody tr th {\n",
       "        vertical-align: top;\n",
       "    }\n",
       "\n",
       "    .dataframe thead th {\n",
       "        text-align: right;\n",
       "    }\n",
       "</style>\n",
       "<table border=\"1\" class=\"dataframe\">\n",
       "  <thead>\n",
       "    <tr style=\"text-align: right;\">\n",
       "      <th></th>\n",
       "      <th>quantile</th>\n",
       "      <th>aov</th>\n",
       "    </tr>\n",
       "  </thead>\n",
       "  <tbody>\n",
       "    <tr>\n",
       "      <th>0</th>\n",
       "      <td>0.1</td>\n",
       "      <td>143.000000</td>\n",
       "    </tr>\n",
       "    <tr>\n",
       "      <th>1</th>\n",
       "      <td>0.2</td>\n",
       "      <td>183.333333</td>\n",
       "    </tr>\n",
       "    <tr>\n",
       "      <th>2</th>\n",
       "      <td>0.3</td>\n",
       "      <td>217.111111</td>\n",
       "    </tr>\n",
       "    <tr>\n",
       "      <th>3</th>\n",
       "      <td>0.4</td>\n",
       "      <td>250.693333</td>\n",
       "    </tr>\n",
       "    <tr>\n",
       "      <th>4</th>\n",
       "      <td>0.5</td>\n",
       "      <td>284.666667</td>\n",
       "    </tr>\n",
       "    <tr>\n",
       "      <th>5</th>\n",
       "      <td>0.6</td>\n",
       "      <td>323.941830</td>\n",
       "    </tr>\n",
       "    <tr>\n",
       "      <th>6</th>\n",
       "      <td>0.7</td>\n",
       "      <td>367.000000</td>\n",
       "    </tr>\n",
       "    <tr>\n",
       "      <th>7</th>\n",
       "      <td>0.8</td>\n",
       "      <td>434.700000</td>\n",
       "    </tr>\n",
       "    <tr>\n",
       "      <th>8</th>\n",
       "      <td>0.9</td>\n",
       "      <td>553.693060</td>\n",
       "    </tr>\n",
       "    <tr>\n",
       "      <th>9</th>\n",
       "      <td>1.0</td>\n",
       "      <td>5302.000000</td>\n",
       "    </tr>\n",
       "  </tbody>\n",
       "</table>\n",
       "</div>"
      ],
      "text/plain": [
       "   quantile          aov\n",
       "0       0.1   143.000000\n",
       "1       0.2   183.333333\n",
       "2       0.3   217.111111\n",
       "3       0.4   250.693333\n",
       "4       0.5   284.666667\n",
       "5       0.6   323.941830\n",
       "6       0.7   367.000000\n",
       "7       0.8   434.700000\n",
       "8       0.9   553.693060\n",
       "9       1.0  5302.000000"
      ]
     },
     "execution_count": 51,
     "metadata": {},
     "output_type": "execute_result"
    }
   ],
   "source": [
    "quantile_wise_aov_df = purchase_history_agg['aov'].quantile([i/10 for i in range(1, 11)])\n",
    "quantile_wise_aov_df = quantile_wise_aov_df.reset_index()\n",
    "quantile_wise_aov_df.columns = ['quantile', 'aov']\n",
    "quantile_wise_aov_df"
   ]
  },
  {
   "cell_type": "code",
   "execution_count": 30,
   "id": "9a005f66-c09f-46b7-9972-6dd802edd3f0",
   "metadata": {},
   "outputs": [
    {
     "data": {
      "image/png": "[encoded data removed]",
      "text/plain": [
       "<Figure size 1440x576 with 1 Axes>"
      ]
     },
     "metadata": {
      "needs_background": "light"
     },
     "output_type": "display_data"
    }
   ],
   "source": [
    "quantile_wise_aov_df.plot.bar(x='quantile', y='aov', figsize=(20,8), grid=True);"
   ]
  },
  {
   "cell_type": "code",
   "execution_count": 58,
   "id": "8b83817e-b663-49bc-9c60-5cc1dff12e99",
   "metadata": {},
   "outputs": [],
   "source": [
    "# Similar to what we have done above we can classify users into 3 segments:\n",
    "\n",
    "# Low aov/gmv user    :       0 < aov <= 360   (Bottom 80%)\n",
    "# Average aov/gmv user:       360 < aov <= 550 (Next 20%)\n",
    "# High aov/gmv user   :       550 < aov        (Top 10%)"
   ]
  },
  {
   "cell_type": "code",
   "execution_count": null,
   "id": "cdbb28a6-7770-4c8e-ac8f-aaee5464e14f",
   "metadata": {},
   "outputs": [],
   "source": [
    "# Similar to what we have done in the cohorting logic, we can also segment the users based on RFM"
   ]
  },
  {
   "cell_type": "markdown",
   "id": "72d1c0c9-948e-4097-944f-19480104ed1d",
   "metadata": {},
   "source": [
    "### 3.3. Based on RFM"
   ]
  },
  {
   "cell_type": "code",
   "execution_count": 77,
   "id": "4078e93d-5af5-445b-91ca-17331a6b1481",
   "metadata": {},
   "outputs": [],
   "source": [
    "max_timestamp = purchase_history[\"timestamp\"].max()\n",
    "\n",
    "# calculate the recency in days\n",
    "purchase_history[\"recency\"] = (max_timestamp - purchase_history[\"timestamp\"]).dt.days\n",
    "\n",
    "# Group the data by user\n",
    "user_groups = purchase_history.groupby(\"user_id\")\n",
    "\n",
    "# Create a new DataFrame to hold the segmentation data\n",
    "segmentation = pd.DataFrame()\n",
    "\n",
    "# Add a column for the recency\n",
    "segmentation[\"recency\"] = user_groups[\"recency\"].min()\n",
    "\n",
    "# Add a column for the frequency\n",
    "segmentation[\"frequency\"] = user_groups[\"purchase_value\"].count()\n",
    "\n",
    "# Add a column for the monetary\n",
    "segmentation[\"monetary\"] = user_groups[\"purchase_value\"].mean()\n",
    "\n",
    "# Set the index of the DataFrame to be the user IDs\n",
    "segmentation.reset_index(level=0, inplace=True)"
   ]
  },
  {
   "cell_type": "code",
   "execution_count": 78,
   "id": "0b5e8147-b713-46a9-8a03-d73a40ab5d1f",
   "metadata": {},
   "outputs": [],
   "source": [
    "# Define the quartile ranges for recency, frequency and monetary\n",
    "r_quartile = pd.qcut(segmentation[\"recency\"], q=3, labels=[\"Most Recent\", \"Mid Recent\", \"Least Recent\"])\n",
    "f_quartile = pd.qcut(segmentation[\"frequency\"], q=3, labels=[\"Highly frequent\", \"Mid-Frequent\", \"Rare\"])\n",
    "m_quartile = pd.qcut(segmentation[\"monetary\"], q=3, labels=[\"Highly Valuable\", \"Mid-Valuable\",\"Not Valuable\"])\n",
    "\n",
    "# Add the quartile labels to the DataFrame\n",
    "segmentation[\"r_quartile\"] = r_quartile\n",
    "segmentation[\"f_quartile\"] = f_quartile\n",
    "segmentation[\"m_quartile\"] = m_quartile"
   ]
  },
  {
   "cell_type": "code",
   "execution_count": 79,
   "id": "8ae4e49e-dacd-46fb-8115-337e59f16ffa",
   "metadata": {},
   "outputs": [
    {
     "data": {
      "text/html": [
       "<div>\n",
       "<style scoped>\n",
       "    .dataframe tbody tr th:only-of-type {\n",
       "        vertical-align: middle;\n",
       "    }\n",
       "\n",
       "    .dataframe tbody tr th {\n",
       "        vertical-align: top;\n",
       "    }\n",
       "\n",
       "    .dataframe thead th {\n",
       "        text-align: right;\n",
       "    }\n",
       "</style>\n",
       "<table border=\"1\" class=\"dataframe\">\n",
       "  <thead>\n",
       "    <tr style=\"text-align: right;\">\n",
       "      <th></th>\n",
       "      <th>user_id</th>\n",
       "      <th>recency</th>\n",
       "      <th>frequency</th>\n",
       "      <th>monetary</th>\n",
       "      <th>r_quartile</th>\n",
       "      <th>f_quartile</th>\n",
       "      <th>m_quartile</th>\n",
       "    </tr>\n",
       "  </thead>\n",
       "  <tbody>\n",
       "    <tr>\n",
       "      <th>0</th>\n",
       "      <td>0000602f168960c53835096f2daad506a80fcef2b4b13a...</td>\n",
       "      <td>25</td>\n",
       "      <td>1</td>\n",
       "      <td>132.000000</td>\n",
       "      <td>Mid Recent</td>\n",
       "      <td>Highly frequent</td>\n",
       "      <td>Highly Valuable</td>\n",
       "    </tr>\n",
       "    <tr>\n",
       "      <th>1</th>\n",
       "      <td>0001b82c569a333a80c48f2004827e4a8e5be5840fbd9b...</td>\n",
       "      <td>90</td>\n",
       "      <td>1</td>\n",
       "      <td>113.000000</td>\n",
       "      <td>Least Recent</td>\n",
       "      <td>Highly frequent</td>\n",
       "      <td>Highly Valuable</td>\n",
       "    </tr>\n",
       "    <tr>\n",
       "      <th>2</th>\n",
       "      <td>000700164cee77c05439c206a588b66fe734150ede585f...</td>\n",
       "      <td>1</td>\n",
       "      <td>24</td>\n",
       "      <td>196.958333</td>\n",
       "      <td>Most Recent</td>\n",
       "      <td>Rare</td>\n",
       "      <td>Highly Valuable</td>\n",
       "    </tr>\n",
       "  </tbody>\n",
       "</table>\n",
       "</div>"
      ],
      "text/plain": [
       "                                             user_id  recency  frequency  \\\n",
       "0  0000602f168960c53835096f2daad506a80fcef2b4b13a...       25          1   \n",
       "1  0001b82c569a333a80c48f2004827e4a8e5be5840fbd9b...       90          1   \n",
       "2  000700164cee77c05439c206a588b66fe734150ede585f...        1         24   \n",
       "\n",
       "     monetary    r_quartile       f_quartile       m_quartile  \n",
       "0  132.000000    Mid Recent  Highly frequent  Highly Valuable  \n",
       "1  113.000000  Least Recent  Highly frequent  Highly Valuable  \n",
       "2  196.958333   Most Recent             Rare  Highly Valuable  "
      ]
     },
     "execution_count": 79,
     "metadata": {},
     "output_type": "execute_result"
    }
   ],
   "source": [
    "segmentation.head(3)"
   ]
  },
  {
   "cell_type": "code",
   "execution_count": 74,
   "id": "6effb228-3570-49dc-b778-a95cc664eaad",
   "metadata": {},
   "outputs": [],
   "source": [
    "# Similar to what we discussed in the cohorting logic:\n",
    "\n",
    "# For the purposes of this assignment, I am just writing the further steps in this approach in words rather than writing the code as the actual implimentation \n",
    "# will depend on the use case. In this approach we can assign a number with each of the element in classes of recency, frequency, monetary. Then, we can \n",
    "# assign the weights to the classes itself based on heuritic depending upon the use case.\n",
    "\n",
    "# Now, we come up with an overall score for the user which will be a weighted sum of class_weight*element_value\n",
    "# Once we get this overall score then we can create different cohorts based on this score.\n",
    "\n",
    "# Example:\n",
    "# Lets assume we assign equal weights to each of the classes (recency, frequency, monetary) of [1, 1, 1]\n",
    "# Also, for simplicity we lets assume we assign the elements of these classes similar number \n",
    "# Most Recent -> 3,  Mid-Recent -> 2, Least Recent -> 1\n",
    "# Highly frequent-> 3, Mid-Frequent -> 2, Rare -> 1\n",
    "# and so on...\n",
    "\n",
    "# Now to get the overall score for lets say user_id == '0001b82c569a333a80c48f2004827e4a8e5be5840fbd9b69ac0379e0de0d8dd7' (say u1)\n",
    "# overall_score for u1 = 1*3 + 1*3 + 1*4 = 11\n",
    "\n",
    "# Similarly we can get the score for all uses and then we can get the distribution of these scores.\n",
    "# Based on the distribution and the use case, we can define different cohorts based on quantiles or binning logic\n",
    "\n",
    "# Important note: We actual class weights will arrive from some heuristic or some business logic and is taken [1, 1, 1] in the example just for explanation"
   ]
  },
  {
   "cell_type": "code",
   "execution_count": 92,
   "id": "ce44f393-85fe-4988-810a-6c34c889d48a",
   "metadata": {
    "collapsed": true,
    "jupyter": {
     "outputs_hidden": true
    },
    "tags": []
   },
   "outputs": [
    {
     "ename": "TypeError",
     "evalue": "unsupported operand type(s) for +: 'Categorical' and 'Categorical'",
     "output_type": "error",
     "traceback": [
      "\u001b[0;31m---------------------------------------------------------------------------\u001b[0m",
      "\u001b[0;31mTypeError\u001b[0m                                 Traceback (most recent call last)",
      "Input \u001b[0;32mIn [92]\u001b[0m, in \u001b[0;36m<cell line: 1>\u001b[0;34m()\u001b[0m\n\u001b[0;32m----> 1\u001b[0m \u001b[43msegmentation\u001b[49m\u001b[43m[\u001b[49m\u001b[38;5;124;43m'\u001b[39;49m\u001b[38;5;124;43mr_score\u001b[39;49m\u001b[38;5;124;43m'\u001b[39;49m\u001b[43m]\u001b[49m\u001b[43m \u001b[49m\u001b[38;5;241;43m+\u001b[39;49m\u001b[43m \u001b[49m\u001b[43msegmentation\u001b[49m\u001b[43m[\u001b[49m\u001b[38;5;124;43m'\u001b[39;49m\u001b[38;5;124;43mf_score\u001b[39;49m\u001b[38;5;124;43m'\u001b[39;49m\u001b[43m]\u001b[49m\n",
      "File \u001b[0;32m~/opt/anaconda3/lib/python3.9/site-packages/pandas/core/ops/common.py:65\u001b[0m, in \u001b[0;36m_unpack_zerodim_and_defer.<locals>.new_method\u001b[0;34m(self, other)\u001b[0m\n\u001b[1;32m     61\u001b[0m             \u001b[38;5;28;01mreturn\u001b[39;00m \u001b[38;5;28mNotImplemented\u001b[39m\n\u001b[1;32m     63\u001b[0m other \u001b[38;5;241m=\u001b[39m item_from_zerodim(other)\n\u001b[0;32m---> 65\u001b[0m \u001b[38;5;28;01mreturn\u001b[39;00m \u001b[43mmethod\u001b[49m\u001b[43m(\u001b[49m\u001b[38;5;28;43mself\u001b[39;49m\u001b[43m,\u001b[49m\u001b[43m \u001b[49m\u001b[43mother\u001b[49m\u001b[43m)\u001b[49m\n",
      "File \u001b[0;32m~/opt/anaconda3/lib/python3.9/site-packages/pandas/core/arraylike.py:89\u001b[0m, in \u001b[0;36mOpsMixin.__add__\u001b[0;34m(self, other)\u001b[0m\n\u001b[1;32m     87\u001b[0m \u001b[38;5;129m@unpack_zerodim_and_defer\u001b[39m(\u001b[38;5;124m\"\u001b[39m\u001b[38;5;124m__add__\u001b[39m\u001b[38;5;124m\"\u001b[39m)\n\u001b[1;32m     88\u001b[0m \u001b[38;5;28;01mdef\u001b[39;00m \u001b[38;5;21m__add__\u001b[39m(\u001b[38;5;28mself\u001b[39m, other):\n\u001b[0;32m---> 89\u001b[0m     \u001b[38;5;28;01mreturn\u001b[39;00m \u001b[38;5;28;43mself\u001b[39;49m\u001b[38;5;241;43m.\u001b[39;49m\u001b[43m_arith_method\u001b[49m\u001b[43m(\u001b[49m\u001b[43mother\u001b[49m\u001b[43m,\u001b[49m\u001b[43m \u001b[49m\u001b[43moperator\u001b[49m\u001b[38;5;241;43m.\u001b[39;49m\u001b[43madd\u001b[49m\u001b[43m)\u001b[49m\n",
      "File \u001b[0;32m~/opt/anaconda3/lib/python3.9/site-packages/pandas/core/series.py:4998\u001b[0m, in \u001b[0;36mSeries._arith_method\u001b[0;34m(self, other, op)\u001b[0m\n\u001b[1;32m   4996\u001b[0m lvalues \u001b[38;5;241m=\u001b[39m extract_array(\u001b[38;5;28mself\u001b[39m, extract_numpy\u001b[38;5;241m=\u001b[39m\u001b[38;5;28;01mTrue\u001b[39;00m)\n\u001b[1;32m   4997\u001b[0m rvalues \u001b[38;5;241m=\u001b[39m extract_array(other, extract_numpy\u001b[38;5;241m=\u001b[39m\u001b[38;5;28;01mTrue\u001b[39;00m)\n\u001b[0;32m-> 4998\u001b[0m result \u001b[38;5;241m=\u001b[39m \u001b[43mops\u001b[49m\u001b[38;5;241;43m.\u001b[39;49m\u001b[43marithmetic_op\u001b[49m\u001b[43m(\u001b[49m\u001b[43mlvalues\u001b[49m\u001b[43m,\u001b[49m\u001b[43m \u001b[49m\u001b[43mrvalues\u001b[49m\u001b[43m,\u001b[49m\u001b[43m \u001b[49m\u001b[43mop\u001b[49m\u001b[43m)\u001b[49m\n\u001b[1;32m   5000\u001b[0m \u001b[38;5;28;01mreturn\u001b[39;00m \u001b[38;5;28mself\u001b[39m\u001b[38;5;241m.\u001b[39m_construct_result(result, name\u001b[38;5;241m=\u001b[39mres_name)\n",
      "File \u001b[0;32m~/opt/anaconda3/lib/python3.9/site-packages/pandas/core/ops/array_ops.py:185\u001b[0m, in \u001b[0;36marithmetic_op\u001b[0;34m(left, right, op)\u001b[0m\n\u001b[1;32m    181\u001b[0m rvalues \u001b[38;5;241m=\u001b[39m _maybe_upcast_for_op(rvalues, lvalues\u001b[38;5;241m.\u001b[39mshape)\n\u001b[1;32m    183\u001b[0m \u001b[38;5;28;01mif\u001b[39;00m should_extension_dispatch(lvalues, rvalues) \u001b[38;5;129;01mor\u001b[39;00m \u001b[38;5;28misinstance\u001b[39m(rvalues, Timedelta):\n\u001b[1;32m    184\u001b[0m     \u001b[38;5;66;03m# Timedelta is included because numexpr will fail on it, see GH#31457\u001b[39;00m\n\u001b[0;32m--> 185\u001b[0m     res_values \u001b[38;5;241m=\u001b[39m \u001b[43mop\u001b[49m\u001b[43m(\u001b[49m\u001b[43mlvalues\u001b[49m\u001b[43m,\u001b[49m\u001b[43m \u001b[49m\u001b[43mrvalues\u001b[49m\u001b[43m)\u001b[49m\n\u001b[1;32m    187\u001b[0m \u001b[38;5;28;01melse\u001b[39;00m:\n\u001b[1;32m    188\u001b[0m     \u001b[38;5;28;01mwith\u001b[39;00m np\u001b[38;5;241m.\u001b[39merrstate(\u001b[38;5;28mall\u001b[39m\u001b[38;5;241m=\u001b[39m\u001b[38;5;124m\"\u001b[39m\u001b[38;5;124mignore\u001b[39m\u001b[38;5;124m\"\u001b[39m):\n",
      "\u001b[0;31mTypeError\u001b[0m: unsupported operand type(s) for +: 'Categorical' and 'Categorical'"
     ]
    }
   ],
   "source": [
    "segmentation['r_score'] + segmentation['f_score']"
   ]
  },
  {
   "cell_type": "code",
   "execution_count": 114,
   "id": "d222a045-c3e5-4082-b497-a071c5a6d65f",
   "metadata": {
    "tags": []
   },
   "outputs": [
    {
     "data": {
      "text/html": [
       "<div>\n",
       "<style scoped>\n",
       "    .dataframe tbody tr th:only-of-type {\n",
       "        vertical-align: middle;\n",
       "    }\n",
       "\n",
       "    .dataframe tbody tr th {\n",
       "        vertical-align: top;\n",
       "    }\n",
       "\n",
       "    .dataframe thead th {\n",
       "        text-align: right;\n",
       "    }\n",
       "</style>\n",
       "<table border=\"1\" class=\"dataframe\">\n",
       "  <thead>\n",
       "    <tr style=\"text-align: right;\">\n",
       "      <th></th>\n",
       "      <th>user_id</th>\n",
       "      <th>recency</th>\n",
       "      <th>frequency</th>\n",
       "      <th>monetary</th>\n",
       "      <th>r_quartile</th>\n",
       "      <th>f_quartile</th>\n",
       "      <th>m_quartile</th>\n",
       "      <th>r_score</th>\n",
       "      <th>f_score</th>\n",
       "      <th>m_score</th>\n",
       "      <th>score</th>\n",
       "      <th>total_score</th>\n",
       "    </tr>\n",
       "  </thead>\n",
       "  <tbody>\n",
       "    <tr>\n",
       "      <th>0</th>\n",
       "      <td>0000602f168960c53835096f2daad506a80fcef2b4b13a...</td>\n",
       "      <td>25</td>\n",
       "      <td>1</td>\n",
       "      <td>132.000000</td>\n",
       "      <td>Mid Recent</td>\n",
       "      <td>Highly frequent</td>\n",
       "      <td>Highly Valuable</td>\n",
       "      <td>2</td>\n",
       "      <td>3</td>\n",
       "      <td>3</td>\n",
       "      <td>8</td>\n",
       "      <td>8</td>\n",
       "    </tr>\n",
       "    <tr>\n",
       "      <th>1</th>\n",
       "      <td>0001b82c569a333a80c48f2004827e4a8e5be5840fbd9b...</td>\n",
       "      <td>90</td>\n",
       "      <td>1</td>\n",
       "      <td>113.000000</td>\n",
       "      <td>Least Recent</td>\n",
       "      <td>Highly frequent</td>\n",
       "      <td>Highly Valuable</td>\n",
       "      <td>1</td>\n",
       "      <td>3</td>\n",
       "      <td>3</td>\n",
       "      <td>7</td>\n",
       "      <td>7</td>\n",
       "    </tr>\n",
       "    <tr>\n",
       "      <th>2</th>\n",
       "      <td>000700164cee77c05439c206a588b66fe734150ede585f...</td>\n",
       "      <td>1</td>\n",
       "      <td>24</td>\n",
       "      <td>196.958333</td>\n",
       "      <td>Most Recent</td>\n",
       "      <td>Rare</td>\n",
       "      <td>Highly Valuable</td>\n",
       "      <td>3</td>\n",
       "      <td>1</td>\n",
       "      <td>3</td>\n",
       "      <td>7</td>\n",
       "      <td>7</td>\n",
       "    </tr>\n",
       "  </tbody>\n",
       "</table>\n",
       "</div>"
      ],
      "text/plain": [
       "                                             user_id  recency  frequency  \\\n",
       "0  0000602f168960c53835096f2daad506a80fcef2b4b13a...       25          1   \n",
       "1  0001b82c569a333a80c48f2004827e4a8e5be5840fbd9b...       90          1   \n",
       "2  000700164cee77c05439c206a588b66fe734150ede585f...        1         24   \n",
       "\n",
       "     monetary    r_quartile       f_quartile       m_quartile  r_score  \\\n",
       "0  132.000000    Mid Recent  Highly frequent  Highly Valuable        2   \n",
       "1  113.000000  Least Recent  Highly frequent  Highly Valuable        1   \n",
       "2  196.958333   Most Recent             Rare  Highly Valuable        3   \n",
       "\n",
       "   f_score  m_score  score  total_score  \n",
       "0        3        3      8            8  \n",
       "1        3        3      7            7  \n",
       "2        1        3      7            7  "
      ]
     },
     "execution_count": 114,
     "metadata": {},
     "output_type": "execute_result"
    }
   ],
   "source": [
    "recency_score_map = {\"Most Recent\":3, \"Mid Recent\":2, \"Least Recent\":1}\n",
    "frequency_score_map = {\"Highly frequent\":3, \"Mid-Frequent\":2, \"Rare\":1}\n",
    "monetory_score_map = {\"Highly Valuable\":3, \"Mid-Valuable\":2,\"Not Valuable\":1}\n",
    "\n",
    "class_wt = {'r': 1, 'f': 1, 'm': 1}\n",
    "\n",
    "segmentation['r_score'] = segmentation[\"r_quartile\"].map(recency_score_map).astype(int)\n",
    "segmentation['f_score'] = segmentation[\"f_quartile\"].map(frequency_score_map).astype(int) \n",
    "segmentation['m_score'] = segmentation[\"m_quartile\"].map(monetory_score_map).astype(int) \n",
    "\n",
    "segmentation['total_score'] = segmentation['r_score'].apply(lambda x: x*class_wt['r']) + segmentation['f_score'].apply(lambda x: x*class_wt['f']) + segmentation['m_score'].apply(lambda x: x*class_wt['m'])\n",
    "segmentation.head(3)"
   ]
  },
  {
   "cell_type": "code",
   "execution_count": 115,
   "id": "1254ba02-c524-444a-8c20-31972baf33d9",
   "metadata": {},
   "outputs": [
    {
     "data": {
      "text/html": [
       "<div>\n",
       "<style scoped>\n",
       "    .dataframe tbody tr th:only-of-type {\n",
       "        vertical-align: middle;\n",
       "    }\n",
       "\n",
       "    .dataframe tbody tr th {\n",
       "        vertical-align: top;\n",
       "    }\n",
       "\n",
       "    .dataframe thead th {\n",
       "        text-align: right;\n",
       "    }\n",
       "</style>\n",
       "<table border=\"1\" class=\"dataframe\">\n",
       "  <thead>\n",
       "    <tr style=\"text-align: right;\">\n",
       "      <th></th>\n",
       "      <th>quantile</th>\n",
       "      <th>total_score</th>\n",
       "    </tr>\n",
       "  </thead>\n",
       "  <tbody>\n",
       "    <tr>\n",
       "      <th>0</th>\n",
       "      <td>0.1</td>\n",
       "      <td>5.0</td>\n",
       "    </tr>\n",
       "    <tr>\n",
       "      <th>1</th>\n",
       "      <td>0.2</td>\n",
       "      <td>5.0</td>\n",
       "    </tr>\n",
       "    <tr>\n",
       "      <th>2</th>\n",
       "      <td>0.3</td>\n",
       "      <td>5.0</td>\n",
       "    </tr>\n",
       "    <tr>\n",
       "      <th>3</th>\n",
       "      <td>0.4</td>\n",
       "      <td>6.0</td>\n",
       "    </tr>\n",
       "    <tr>\n",
       "      <th>4</th>\n",
       "      <td>0.5</td>\n",
       "      <td>6.0</td>\n",
       "    </tr>\n",
       "    <tr>\n",
       "      <th>5</th>\n",
       "      <td>0.6</td>\n",
       "      <td>6.0</td>\n",
       "    </tr>\n",
       "    <tr>\n",
       "      <th>6</th>\n",
       "      <td>0.7</td>\n",
       "      <td>7.0</td>\n",
       "    </tr>\n",
       "    <tr>\n",
       "      <th>7</th>\n",
       "      <td>0.8</td>\n",
       "      <td>7.0</td>\n",
       "    </tr>\n",
       "    <tr>\n",
       "      <th>8</th>\n",
       "      <td>0.9</td>\n",
       "      <td>8.0</td>\n",
       "    </tr>\n",
       "    <tr>\n",
       "      <th>9</th>\n",
       "      <td>1.0</td>\n",
       "      <td>9.0</td>\n",
       "    </tr>\n",
       "  </tbody>\n",
       "</table>\n",
       "</div>"
      ],
      "text/plain": [
       "   quantile  total_score\n",
       "0       0.1          5.0\n",
       "1       0.2          5.0\n",
       "2       0.3          5.0\n",
       "3       0.4          6.0\n",
       "4       0.5          6.0\n",
       "5       0.6          6.0\n",
       "6       0.7          7.0\n",
       "7       0.8          7.0\n",
       "8       0.9          8.0\n",
       "9       1.0          9.0"
      ]
     },
     "execution_count": 115,
     "metadata": {},
     "output_type": "execute_result"
    }
   ],
   "source": [
    "rfm_score_quantiles = segmentation['total_score'].quantile([i/10 for i in range(1, 11)])\n",
    "rfm_score_quantiles = rfm_score_quantiles.reset_index()\n",
    "rfm_score_quantiles.columns = ['quantile', 'total_score']\n",
    "\n",
    "rfm_score_quantiles"
   ]
  },
  {
   "cell_type": "code",
   "execution_count": 116,
   "id": "4e20361e-415f-4d59-8d4e-0f6fc7b85dfe",
   "metadata": {},
   "outputs": [
    {
     "data": {
      "image/png": "[encoded data removed]",
      "text/plain": [
       "<Figure size 1440x576 with 1 Axes>"
      ]
     },
     "metadata": {
      "needs_background": "light"
     },
     "output_type": "display_data"
    }
   ],
   "source": [
    "rfm_score_quantiles.plot.bar(x='quantile', y='total_score', figsize=(20,8), grid=True);"
   ]
  },
  {
   "cell_type": "code",
   "execution_count": null,
   "id": "bd9e0583-baa0-4f72-89a6-762a1fac2c6e",
   "metadata": {},
   "outputs": [],
   "source": [
    "# Following the same approach here also we can create 4 segments\n",
    "\n",
    "# Low score user         :       0 < score <= 5    (Bottom 30%)\n",
    "# Average score user     :       5 < score <= 7    (Next 30%)\n",
    "# High score user        :       7 < score <=8     (Top 20%)\n",
    "# Very High score user   :       8 < score         (Top 20%)\n",
    "\n",
    "# Note: This is just an idea depending upon the use case we can create more number of classes and assign weights to individual classes"
   ]
  }
 ],
 "metadata": {
  "kernelspec": {
   "display_name": "Python 3 (ipykernel)",
   "language": "python",
   "name": "python3"
  },
  "language_info": {
   "codemirror_mode": {
    "name": "ipython",
    "version": 3
   },
   "file_extension": ".py",
   "mimetype": "text/x-python",
   "name": "python",
   "nbconvert_exporter": "python",
   "pygments_lexer": "ipython3",
   "version": "3.9.12"
  }
 },
 "nbformat": 4,
 "nbformat_minor": 5
}
