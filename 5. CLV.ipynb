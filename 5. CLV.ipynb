{
 "cells": [
  {
   "cell_type": "markdown",
   "id": "f6715334-493e-4a6f-88c4-39c25d9b6abe",
   "metadata": {},
   "source": [
    "# Problem statement: \n",
    "> Determine the customer lifetime value of the top users assuming they haven’t made any prior purchases"
   ]
  },
  {
   "cell_type": "markdown",
   "id": "5f4394aa-6809-44c8-866f-741a5952d8f6",
   "metadata": {},
   "source": [
    "## 1. Imports"
   ]
  },
  {
   "cell_type": "code",
   "execution_count": 1,
   "id": "d4a3cc19-4dd5-4a0e-a9b5-6b72666cec34",
   "metadata": {},
   "outputs": [],
   "source": [
    "import pandas as pd\n",
    "import numpy as np\n",
    "from datetime import datetime, timedelta"
   ]
  },
  {
   "cell_type": "markdown",
   "id": "ede9e427-c439-4734-81e6-93a4c04d0d47",
   "metadata": {},
   "source": [
    "## 2. Read the dataset"
   ]
  },
  {
   "cell_type": "code",
   "execution_count": 2,
   "id": "60cc7156-3f5a-4a47-9f1e-c897dd55196c",
   "metadata": {},
   "outputs": [],
   "source": [
    "purchase_history = pd.read_csv('dataset.csv')\n",
    "purchase_history['timestamp'] = purchase_history['timestamp'].apply(lambda x: datetime.strptime(x, '%Y-%m-%d %H:%M:%S.%f') + timedelta(hours=5, minutes=30))"
   ]
  },
  {
   "cell_type": "markdown",
   "id": "5f236358-320d-4fee-8720-4540d411bdca",
   "metadata": {},
   "source": [
    "## 3. Define CLV"
   ]
  },
  {
   "cell_type": "markdown",
   "id": "bc508a58-1f33-4898-91e3-67f74e1dfaa2",
   "metadata": {},
   "source": [
    "> Customer lifetime value (CLV) is a prediction of the net profit attributed to the entire future relationship with a customer. It represents the monetary value of the revenue that a customer will generate over the entire course of their relationship with a company.\n",
    "\n",
    "> CLV is an important metric because it can help a business understand the long-term value of its customer base and make informed decisions about acquisition, retention, and investment strategies. A customer with a high CLV is generally considered to be more valuable than a customer with a low CLV, because they are more likely to generate more revenue over time.\n",
    "\n",
    "> There are several methods to calculate CLV, the most common are:\n",
    "> - Historical Method: which uses the past data to calculate the CLV by multiplying the average purchase value by the number of purchases per year, multiplied by the average customer lifespan.\n",
    "> - Predictive method: this method uses customer data and statistical models to predict future CLV. This can be done through different techniques like survival analysis, gradient boosting, etc\n",
    "> - Cohort analysis : which groups customers based on when they first became a customer and analyse how they behave over time.\n",
    "\n",
    "> In this assignment we will be using the first method, other approaches can also be experimented with but due to timeline of this assignment I am skipping the other two approaches.\n",
    "\n",
    "> The most basic formula for calculating customer lifetime value (CLV) using first approach is:\n",
    "\n",
    "> CLV = (average purchase value) x (number of purchases per year) x (average customer lifespan)\n",
    "\n",
    "> In terms of churn rate we can use:\n",
    "\n",
    "> CLV = (average revenue per customer per period) x (number of purchases in customer lifetime) / (1 + customer churn rate)\n",
    "\n"
   ]
  },
  {
   "cell_type": "markdown",
   "id": "5fdb17b0-d368-4366-92e9-f451b05940ce",
   "metadata": {},
   "source": [
    "## 4. Get the top users"
   ]
  },
  {
   "cell_type": "code",
   "execution_count": 145,
   "id": "1054cf12-f9af-4548-8725-b8fc585f0e06",
   "metadata": {},
   "outputs": [],
   "source": [
    "# For getting the top users we have multiple approaches\n",
    "# Here lets get the top users based on average purchase value\n",
    "# Take top 10 percent users based on AOV"
   ]
  },
  {
   "cell_type": "code",
   "execution_count": 146,
   "id": "1f4aa28d-9422-4a5d-8501-363697a8eee5",
   "metadata": {},
   "outputs": [],
   "source": [
    "purchase_history_agg = purchase_history.groupby('user_id').agg({\"purchase_value\":[\"sum\",\"mean\", \"count\"]}).reset_index(col_level=1)\n",
    "purchase_history_agg.columns = ['user_id', 'total_value', 'aov', \"n_order\"]"
   ]
  },
  {
   "cell_type": "code",
   "execution_count": 147,
   "id": "b66136d6-eabc-4c8e-bf5d-609735fd6460",
   "metadata": {},
   "outputs": [
    {
     "data": {
      "text/html": [
       "<div>\n",
       "<style scoped>\n",
       "    .dataframe tbody tr th:only-of-type {\n",
       "        vertical-align: middle;\n",
       "    }\n",
       "\n",
       "    .dataframe tbody tr th {\n",
       "        vertical-align: top;\n",
       "    }\n",
       "\n",
       "    .dataframe thead th {\n",
       "        text-align: right;\n",
       "    }\n",
       "</style>\n",
       "<table border=\"1\" class=\"dataframe\">\n",
       "  <thead>\n",
       "    <tr style=\"text-align: right;\">\n",
       "      <th></th>\n",
       "      <th>user_id</th>\n",
       "      <th>total_value</th>\n",
       "      <th>aov</th>\n",
       "      <th>n_order</th>\n",
       "    </tr>\n",
       "  </thead>\n",
       "  <tbody>\n",
       "    <tr>\n",
       "      <th>24</th>\n",
       "      <td>0043a4ae6a8ba51114ea2a84784e35aa092ecc04ef2239...</td>\n",
       "      <td>1179.0</td>\n",
       "      <td>589.500000</td>\n",
       "      <td>2</td>\n",
       "    </tr>\n",
       "    <tr>\n",
       "      <th>33</th>\n",
       "      <td>005a7d7f5b9f8c3418d2400e9f1c444e463c13eee6491a...</td>\n",
       "      <td>2655.0</td>\n",
       "      <td>1327.500000</td>\n",
       "      <td>2</td>\n",
       "    </tr>\n",
       "    <tr>\n",
       "      <th>45</th>\n",
       "      <td>0077ecd6eb5a9240d81f9a1ca28878b333a971dc486066...</td>\n",
       "      <td>1828.0</td>\n",
       "      <td>609.333333</td>\n",
       "      <td>3</td>\n",
       "    </tr>\n",
       "  </tbody>\n",
       "</table>\n",
       "</div>"
      ],
      "text/plain": [
       "                                              user_id  total_value  \\\n",
       "24  0043a4ae6a8ba51114ea2a84784e35aa092ecc04ef2239...       1179.0   \n",
       "33  005a7d7f5b9f8c3418d2400e9f1c444e463c13eee6491a...       2655.0   \n",
       "45  0077ecd6eb5a9240d81f9a1ca28878b333a971dc486066...       1828.0   \n",
       "\n",
       "            aov  n_order  \n",
       "24   589.500000        2  \n",
       "33  1327.500000        2  \n",
       "45   609.333333        3  "
      ]
     },
     "execution_count": 147,
     "metadata": {},
     "output_type": "execute_result"
    }
   ],
   "source": [
    "top10per_aov_user_df = purchase_history_agg[purchase_history_agg['aov']>=purchase_history_agg['aov'].quantile(0.9)]\n",
    "top10per_aov_user_df.head(3)"
   ]
  },
  {
   "cell_type": "markdown",
   "id": "2454fce2-3d91-4e3d-bb4d-6725cf31d86f",
   "metadata": {},
   "source": [
    "## 5. Predict CLV"
   ]
  },
  {
   "cell_type": "code",
   "execution_count": 148,
   "id": "bb873299-95c5-440c-9f07-1083122465ce",
   "metadata": {},
   "outputs": [],
   "source": [
    "# Estimate the expected value of future purchases for each user\n",
    "expected_values = top10per_aov_user_df['aov']\n",
    "\n",
    "# Set the discount rate\n",
    "discount_rate = 0.1\n",
    "\n",
    "# Churn probabilities\n",
    "churn_probab = pd.read_csv('churn_probability.csv')[['user_id', 'prob']]"
   ]
  },
  {
   "cell_type": "code",
   "execution_count": 149,
   "id": "c5a8cae8-6f68-4004-8f85-c330f0450dda",
   "metadata": {},
   "outputs": [
    {
     "data": {
      "text/html": [
       "<div>\n",
       "<style scoped>\n",
       "    .dataframe tbody tr th:only-of-type {\n",
       "        vertical-align: middle;\n",
       "    }\n",
       "\n",
       "    .dataframe tbody tr th {\n",
       "        vertical-align: top;\n",
       "    }\n",
       "\n",
       "    .dataframe thead th {\n",
       "        text-align: right;\n",
       "    }\n",
       "</style>\n",
       "<table border=\"1\" class=\"dataframe\">\n",
       "  <thead>\n",
       "    <tr style=\"text-align: right;\">\n",
       "      <th></th>\n",
       "      <th>user_id</th>\n",
       "      <th>total_value</th>\n",
       "      <th>aov</th>\n",
       "      <th>n_order</th>\n",
       "      <th>prob</th>\n",
       "    </tr>\n",
       "  </thead>\n",
       "  <tbody>\n",
       "    <tr>\n",
       "      <th>0</th>\n",
       "      <td>0043a4ae6a8ba51114ea2a84784e35aa092ecc04ef2239...</td>\n",
       "      <td>1179.0</td>\n",
       "      <td>589.5</td>\n",
       "      <td>2</td>\n",
       "      <td>1.595512e-08</td>\n",
       "    </tr>\n",
       "    <tr>\n",
       "      <th>1</th>\n",
       "      <td>005a7d7f5b9f8c3418d2400e9f1c444e463c13eee6491a...</td>\n",
       "      <td>2655.0</td>\n",
       "      <td>1327.5</td>\n",
       "      <td>2</td>\n",
       "      <td>9.999765e-01</td>\n",
       "    </tr>\n",
       "  </tbody>\n",
       "</table>\n",
       "</div>"
      ],
      "text/plain": [
       "                                             user_id  total_value     aov  \\\n",
       "0  0043a4ae6a8ba51114ea2a84784e35aa092ecc04ef2239...       1179.0   589.5   \n",
       "1  005a7d7f5b9f8c3418d2400e9f1c444e463c13eee6491a...       2655.0  1327.5   \n",
       "\n",
       "   n_order          prob  \n",
       "0        2  1.595512e-08  \n",
       "1        2  9.999765e-01  "
      ]
     },
     "execution_count": 149,
     "metadata": {},
     "output_type": "execute_result"
    }
   ],
   "source": [
    "data = top10per_aov_user_df.merge(churn_probab, on='user_id', how='left')\n",
    "data.head(2)"
   ]
  },
  {
   "cell_type": "markdown",
   "id": "501691a2-f737-44ca-bfc0-f673f3577ff1",
   "metadata": {
    "tags": []
   },
   "source": [
    "### 5.1. Overall CLV \n",
    "> Direct method to get a rough estimate "
   ]
  },
  {
   "cell_type": "code",
   "execution_count": 150,
   "id": "ead3c7e5-c4c7-4af1-80ad-babf86860f2c",
   "metadata": {},
   "outputs": [
    {
     "data": {
      "text/html": [
       "<div>\n",
       "<style scoped>\n",
       "    .dataframe tbody tr th:only-of-type {\n",
       "        vertical-align: middle;\n",
       "    }\n",
       "\n",
       "    .dataframe tbody tr th {\n",
       "        vertical-align: top;\n",
       "    }\n",
       "\n",
       "    .dataframe thead th {\n",
       "        text-align: right;\n",
       "    }\n",
       "</style>\n",
       "<table border=\"1\" class=\"dataframe\">\n",
       "  <thead>\n",
       "    <tr style=\"text-align: right;\">\n",
       "      <th></th>\n",
       "      <th>user_id</th>\n",
       "      <th>CLV</th>\n",
       "    </tr>\n",
       "  </thead>\n",
       "  <tbody>\n",
       "    <tr>\n",
       "      <th>0</th>\n",
       "      <td>0043a4ae6a8ba51114ea2a84784e35aa092ecc04ef2239...</td>\n",
       "      <td>1071.818197</td>\n",
       "    </tr>\n",
       "    <tr>\n",
       "      <th>1</th>\n",
       "      <td>005a7d7f5b9f8c3418d2400e9f1c444e463c13eee6491a...</td>\n",
       "      <td>26543.757706</td>\n",
       "    </tr>\n",
       "    <tr>\n",
       "      <th>2</th>\n",
       "      <td>0077ecd6eb5a9240d81f9a1ca28878b333a971dc486066...</td>\n",
       "      <td>18279.371478</td>\n",
       "    </tr>\n",
       "  </tbody>\n",
       "</table>\n",
       "</div>"
      ],
      "text/plain": [
       "                                             user_id           CLV\n",
       "0  0043a4ae6a8ba51114ea2a84784e35aa092ecc04ef2239...   1071.818197\n",
       "1  005a7d7f5b9f8c3418d2400e9f1c444e463c13eee6491a...  26543.757706\n",
       "2  0077ecd6eb5a9240d81f9a1ca28878b333a971dc486066...  18279.371478"
      ]
     },
     "execution_count": 150,
     "metadata": {},
     "output_type": "execute_result"
    }
   ],
   "source": [
    "clv_value = (data['aov']*data['n_order']) / (1 + discount_rate - data['prob'])\n",
    "\n",
    "clv_direct_df = pd.DataFrame(zip(data['user_id'].values, clv_value), columns=['user_id', 'CLV'])\n",
    "clv_direct_df.head(3)"
   ]
  },
  {
   "cell_type": "markdown",
   "id": "4d5d962e-fc61-4f6b-8f3a-bba574a06fff",
   "metadata": {},
   "source": [
    "### 5.2. Using exponential discounting decay factor (discounted cash flow (DCF))"
   ]
  },
  {
   "cell_type": "code",
   "execution_count": 163,
   "id": "5db1d468-d7de-445c-987f-f2858cda458d",
   "metadata": {},
   "outputs": [],
   "source": [
    "# Calculate the CLV for each user\n",
    "clv = {}\n",
    "\n",
    "for idx, val in data.iterrows():\n",
    "    user_id = val.user_id\n",
    "    total_value = val.total_value\n",
    "    aov = val.aov\n",
    "    n_order = val.n_order\n",
    "    prob = val.prob\n",
    "    \n",
    "    # Calculate the present value of future purchases\n",
    "    present_value = 0\n",
    "    \n",
    "    for i in range(1, 11):\n",
    "        future_value = aov / ((1 + discount_rate)**i)\n",
    "        present_value += future_value * prob**i * (1 - prob)**(10-i)\n",
    "        \n",
    "    # Calculate the CLV\n",
    "    clv[user_id] = total_value + present_value"
   ]
  },
  {
   "cell_type": "code",
   "execution_count": null,
   "id": "813e9584-1fef-4b94-9544-2a0880ffdf21",
   "metadata": {},
   "outputs": [],
   "source": [
    "# future_value = expected_values[user_id] / ((1 + discount_rate)**i)\n",
    "\n",
    "# Where aov is a dictionary containing the expected purchase value for each user, \n",
    "# discount_rate is a predefined rate used to discount future cash flows, \n",
    "# and i is the number of years in the future.\n",
    "\n",
    "# Then it calculates the present value of the future purchase for that user by adding the following:\n",
    "#  present_value += future_value * probabilities[user_id]**i * (1 - probabilities[user_id])**(10-i)"
   ]
  },
  {
   "cell_type": "code",
   "execution_count": null,
   "id": "b9b549e6-9d17-4640-9721-8f0891f9ccb4",
   "metadata": {},
   "outputs": [],
   "source": [
    "# Note: I have commented the code above since, we don't have enough data to apply this approach properly.\n",
    "# Although we can do it with this data as well but it would be an overkill since we don't have enough data to generalize this stuff"
   ]
  }
 ],
 "metadata": {
  "kernelspec": {
   "display_name": "Python 3 (ipykernel)",
   "language": "python",
   "name": "python3"
  },
  "language_info": {
   "codemirror_mode": {
    "name": "ipython",
    "version": 3
   },
   "file_extension": ".py",
   "mimetype": "text/x-python",
   "name": "python",
   "nbconvert_exporter": "python",
   "pygments_lexer": "ipython3",
   "version": "3.9.12"
  }
 },
 "nbformat": 4,
 "nbformat_minor": 5
}
