{
 "cells": [
  {
   "cell_type": "markdown",
   "id": "b81e4a8e-00e8-49af-afe6-b32adb329251",
   "metadata": {},
   "source": [
    "## 1. Imports"
   ]
  },
  {
   "cell_type": "code",
   "execution_count": 1,
   "id": "438e128e-7029-489d-ad32-94004a58633f",
   "metadata": {},
   "outputs": [],
   "source": [
    "import pandas as pd\n",
    "import numpy as np\n",
    "from datetime import datetime, timedelta"
   ]
  },
  {
   "cell_type": "markdown",
   "id": "b842ebb2-90b1-4409-9116-8d000f347cad",
   "metadata": {},
   "source": [
    "## 2. Read the dataset"
   ]
  },
  {
   "cell_type": "code",
   "execution_count": 3,
   "id": "7c6c0aad-4c8c-45e1-b7f1-e2a645c73596",
   "metadata": {},
   "outputs": [],
   "source": [
    "purchase_history = pd.read_csv('dataset.csv')"
   ]
  },
  {
   "cell_type": "code",
   "execution_count": 4,
   "id": "be9b383d-3c1f-4067-a699-5fb821e3ac28",
   "metadata": {},
   "outputs": [],
   "source": [
    "purchase_history['timestamp'] = purchase_history['timestamp'].apply(lambda x: datetime.strptime(x, '%Y-%m-%d %H:%M:%S.%f') + timedelta(hours=5, minutes=30))"
   ]
  },
  {
   "cell_type": "markdown",
   "id": "d7983742-eb65-4e0f-892f-de55dd6aeb1e",
   "metadata": {},
   "source": [
    "## 3. Cohorting of users"
   ]
  },
  {
   "cell_type": "code",
   "execution_count": 282,
   "id": "8c4d3f3c-8449-46b5-8e88-46fb75dfb408",
   "metadata": {},
   "outputs": [],
   "source": [
    "## Depending upon the use case we can use any of the cohorting mechanisms\n",
    "## For example: Lets say in a use case we have some campaign the success of which depends on the number of orders made rather than the value of the order. Habit formation. Exploration\n",
    "## For example: For use cases like where we are concerned about the order value we can use the other approach. Exploitation"
   ]
  },
  {
   "cell_type": "code",
   "execution_count": null,
   "id": "558e44eb-5002-4a44-a1a1-eb9de9d20a06",
   "metadata": {},
   "outputs": [],
   "source": [
    "# Segmentation is used to divide and understand current users \n",
    "# Cohort analysis is used to track and understand how users have changed or behaved over time\n",
    "\n",
    "# Here in this notebook, I have performed cohorting to make the problem more interesting\n",
    "# Segmentation can also be performed using same approaches, one would have to just consider all data insted of considering data over a week/month\n",
    "# and adjust the class boudaries/thresholds accordingly."
   ]
  },
  {
   "cell_type": "markdown",
   "id": "3fc13535-dc35-41c5-9bb2-aa00e652fa95",
   "metadata": {},
   "source": [
    "### 3.1. Based on number of orders in a week"
   ]
  },
  {
   "cell_type": "code",
   "execution_count": 283,
   "id": "9cd1a3db-388f-459d-824e-7f5200b6cc9e",
   "metadata": {},
   "outputs": [
    {
     "name": "stdout",
     "output_type": "stream",
     "text": [
      "Plot for data between: [2022-08-16, 2022-08-22]\n"
     ]
    },
    {
     "data": {
      "text/html": [
       "<div>\n",
       "<style scoped>\n",
       "    .dataframe tbody tr th:only-of-type {\n",
       "        vertical-align: middle;\n",
       "    }\n",
       "\n",
       "    .dataframe tbody tr th {\n",
       "        vertical-align: top;\n",
       "    }\n",
       "\n",
       "    .dataframe thead th {\n",
       "        text-align: right;\n",
       "    }\n",
       "</style>\n",
       "<table border=\"1\" class=\"dataframe\">\n",
       "  <thead>\n",
       "    <tr style=\"text-align: right;\">\n",
       "      <th></th>\n",
       "      <th>purchase_count</th>\n",
       "      <th>n_users</th>\n",
       "      <th>per</th>\n",
       "      <th>cum_per</th>\n",
       "    </tr>\n",
       "  </thead>\n",
       "  <tbody>\n",
       "    <tr>\n",
       "      <th>0</th>\n",
       "      <td>1</td>\n",
       "      <td>3299</td>\n",
       "      <td>65.482334</td>\n",
       "      <td>65.482334</td>\n",
       "    </tr>\n",
       "    <tr>\n",
       "      <th>1</th>\n",
       "      <td>2</td>\n",
       "      <td>1060</td>\n",
       "      <td>21.040095</td>\n",
       "      <td>86.522430</td>\n",
       "    </tr>\n",
       "    <tr>\n",
       "      <th>2</th>\n",
       "      <td>3</td>\n",
       "      <td>386</td>\n",
       "      <td>7.661771</td>\n",
       "      <td>94.184200</td>\n",
       "    </tr>\n",
       "    <tr>\n",
       "      <th>3</th>\n",
       "      <td>4</td>\n",
       "      <td>144</td>\n",
       "      <td>2.858277</td>\n",
       "      <td>97.042477</td>\n",
       "    </tr>\n",
       "    <tr>\n",
       "      <th>4</th>\n",
       "      <td>5</td>\n",
       "      <td>86</td>\n",
       "      <td>1.707027</td>\n",
       "      <td>98.749504</td>\n",
       "    </tr>\n",
       "    <tr>\n",
       "      <th>5</th>\n",
       "      <td>6</td>\n",
       "      <td>33</td>\n",
       "      <td>0.655022</td>\n",
       "      <td>99.404526</td>\n",
       "    </tr>\n",
       "    <tr>\n",
       "      <th>6</th>\n",
       "      <td>7</td>\n",
       "      <td>15</td>\n",
       "      <td>0.297737</td>\n",
       "      <td>99.702263</td>\n",
       "    </tr>\n",
       "    <tr>\n",
       "      <th>7</th>\n",
       "      <td>8</td>\n",
       "      <td>7</td>\n",
       "      <td>0.138944</td>\n",
       "      <td>99.841207</td>\n",
       "    </tr>\n",
       "    <tr>\n",
       "      <th>8</th>\n",
       "      <td>9</td>\n",
       "      <td>5</td>\n",
       "      <td>0.099246</td>\n",
       "      <td>99.940453</td>\n",
       "    </tr>\n",
       "    <tr>\n",
       "      <th>9</th>\n",
       "      <td>10</td>\n",
       "      <td>2</td>\n",
       "      <td>0.039698</td>\n",
       "      <td>99.980151</td>\n",
       "    </tr>\n",
       "    <tr>\n",
       "      <th>10</th>\n",
       "      <td>20</td>\n",
       "      <td>1</td>\n",
       "      <td>0.019849</td>\n",
       "      <td>100.000000</td>\n",
       "    </tr>\n",
       "  </tbody>\n",
       "</table>\n",
       "</div>"
      ],
      "text/plain": [
       "    purchase_count  n_users        per     cum_per\n",
       "0                1     3299  65.482334   65.482334\n",
       "1                2     1060  21.040095   86.522430\n",
       "2                3      386   7.661771   94.184200\n",
       "3                4      144   2.858277   97.042477\n",
       "4                5       86   1.707027   98.749504\n",
       "5                6       33   0.655022   99.404526\n",
       "6                7       15   0.297737   99.702263\n",
       "7                8        7   0.138944   99.841207\n",
       "8                9        5   0.099246   99.940453\n",
       "9               10        2   0.039698   99.980151\n",
       "10              20        1   0.019849  100.000000"
      ]
     },
     "execution_count": 283,
     "metadata": {},
     "output_type": "execute_result"
    }
   ],
   "source": [
    "lower_limit = datetime.strptime('2022-08-16', '%Y-%m-%d')\n",
    "upper_limit = lower_limit + timedelta(days=6)\n",
    "print(\"Plot for data between: [{}, {}]\".format(lower_limit.date(), upper_limit.date()))\n",
    "n_order_week = purchase_history[(purchase_history.timestamp >= lower_limit) & (purchase_history.timestamp <= upper_limit)].groupby('user_id').agg({'purchase_value':['count']}).reset_index(col_level=1)\n",
    "\n",
    "n_order_week.columns = ['userid', 'purchase_count']\n",
    "n_order_week.rename_axis(axis=1)\n",
    "n_order_week_agg = n_order_week.groupby('purchase_count').agg('count').reset_index()\n",
    "n_order_week_agg.columns = ['purchase_count', 'n_users']\n",
    "n_order_week_agg['per'] = n_order_week_agg['n_users']/sum(n_order_week_agg['n_users'])*100\n",
    "n_order_week_agg['cum_per'] = n_order_week_agg['per'].cumsum()\n",
    "# # n_order_week[n_order_week['order_count']<=n_order_week['order_count'].quantile(.99)].hist(bins=10, figsize=(20, 6), xrot=90);\n",
    "n_order_week_agg"
   ]
  },
  {
   "cell_type": "code",
   "execution_count": 284,
   "id": "f886ba85-0a24-4cd6-b51d-260de7419afe",
   "metadata": {},
   "outputs": [
    {
     "data": {
      "image/png": "[encoded data removed]",
      "text/plain": [
       "<Figure size 792x432 with 1 Axes>"
      ]
     },
     "metadata": {},
     "output_type": "display_data"
    }
   ],
   "source": [
    "n_order_week['cohort'] = 1\n",
    "n_order_week.loc[(n_order_week['purchase_count']>=1) &(n_order_week['purchase_count']<=1), 'cohort'] = 2\n",
    "n_order_week.loc[(n_order_week['purchase_count']>=2) &(n_order_week['purchase_count']<=4), 'cohort'] = 3\n",
    "n_order_week.loc[(n_order_week['purchase_count']>4), 'cohort'] = 4\n",
    "\n",
    "n_order_week['cohort'].value_counts().plot.pie(subplots=True, figsize=(11, 6), title=\"Cohort distribution\",\n",
    "                                              autopct='%1.1f%%',explode=([0.01]*n_order_week['cohort'].nunique()),  startangle=0);"
   ]
  },
  {
   "cell_type": "code",
   "execution_count": 285,
   "id": "6a8b74d1-027f-43cc-be1e-ab153250ecf0",
   "metadata": {},
   "outputs": [],
   "source": [
    "# Clearly from above we see that we can create a number of segments/cohorts for the user's based of their repeat history\n",
    "# From visual inspection lets create 3 cohorts\n",
    "\n",
    "# Cohort 1: order_count     x<1: New user (Cold user)\n",
    "# Cohort 2: order_count 1>=x<=1: Low repeat users (Sparse user)\n",
    "# Cohort 3: order_count 2=<x<=4: Medium repeat users (Dense user)\n",
    "# Cohort 4: order_count    x>4 : High repeat users (Densest user)\n",
    "\n",
    "# Note: From the data we observe that this distribution remains same over the weeks"
   ]
  },
  {
   "cell_type": "code",
   "execution_count": 286,
   "id": "dc1ef414-4fda-451a-b47b-6b1e19701e86",
   "metadata": {},
   "outputs": [
    {
     "name": "stdout",
     "output_type": "stream",
     "text": [
      "For data between: [2022-08-16, 2022-08-22]\tCohort 2: 3299(65.5%) | Cohort 3: 1590(31.6%) | Cohort 4: 149(3.0%)\n",
      "For data between: [2022-08-23, 2022-08-29]\tCohort 2: 3456(65.4%) | Cohort 3: 1676(31.7%) | Cohort 4: 151(2.9%)\n",
      "For data between: [2022-08-30, 2022-09-05]\tCohort 2: 3376(66.9%) | Cohort 3: 1564(31.0%) | Cohort 4: 107(2.1%)\n",
      "For data between: [2022-09-06, 2022-09-12]\tCohort 2: 3571(65.2%) | Cohort 3: 1762(32.2%) | Cohort 4: 147(2.7%)\n",
      "For data between: [2022-09-13, 2022-09-19]\tCohort 2: 3571(64.6%) | Cohort 3: 1794(32.5%) | Cohort 4: 160(2.9%)\n",
      "For data between: [2022-09-20, 2022-09-26]\tCohort 2: 3431(63.2%) | Cohort 3: 1839(33.9%) | Cohort 4: 155(2.9%)\n",
      "For data between: [2022-09-27, 2022-10-03]\tCohort 2: 3567(63.8%) | Cohort 3: 1867(33.4%) | Cohort 4: 153(2.7%)\n",
      "For data between: [2022-10-04, 2022-10-10]\tCohort 2: 3529(62.6%) | Cohort 3: 1898(33.7%) | Cohort 4: 210(3.7%)\n",
      "For data between: [2022-10-11, 2022-10-17]\tCohort 2: 3676(62.0%) | Cohort 3: 2029(34.2%) | Cohort 4: 225(3.8%)\n",
      "For data between: [2022-10-18, 2022-10-24]\tCohort 2: 3385(61.6%) | Cohort 3: 1868(34.0%) | Cohort 4: 244(4.4%)\n",
      "For data between: [2022-10-25, 2022-10-31]\tCohort 2: 3520(62.1%) | Cohort 3: 1927(34.0%) | Cohort 4: 217(3.8%)\n",
      "For data between: [2022-11-01, 2022-11-07]\tCohort 2: 3748(60.3%) | Cohort 3: 2220(35.7%) | Cohort 4: 246(4.0%)\n",
      "For data between: [2022-11-08, 2022-11-14]\tCohort 2: 3924(61.3%) | Cohort 3: 2206(34.5%) | Cohort 4: 272(4.2%)\n",
      "For data between: [2022-11-15, 2022-11-21]\tCohort 2: 3824(60.1%) | Cohort 3: 2259(35.5%) | Cohort 4: 277(4.4%)\n",
      "For data between: [2022-11-22, 2022-11-28]\tCohort 2: 3785(58.6%) | Cohort 3: 2396(37.1%) | Cohort 4: 273(4.2%)\n",
      "For data between: [2022-11-29, 2022-12-05]\tCohort 2: 3724(57.5%) | Cohort 3: 2451(37.8%) | Cohort 4: 304(4.7%)\n",
      "For data between: [2022-12-06, 2022-12-12]\tCohort 2: 3852(58.0%) | Cohort 3: 2463(37.1%) | Cohort 4: 323(4.9%)\n",
      "For data between: [2022-12-13, 2022-12-19]\tCohort 2: 2061(84.4%) | Cohort 3: 372(15.2%) | Cohort 4: 10(0.4%)\n"
     ]
    }
   ],
   "source": [
    "# Let now find the distribution of users in these cohorts across non-overlapping months\n",
    "\n",
    "upper_limit = datetime.strptime('2022-08-15', '%Y-%m-%d')\n",
    "while(True):\n",
    "    lower_limit = upper_limit +  timedelta(days=1)\n",
    "    upper_limit = lower_limit + timedelta(days=6)\n",
    "    df3 = purchase_history[(purchase_history.timestamp >= lower_limit) & (purchase_history.timestamp <= upper_limit)].groupby('user_id').agg({'purchase_value':['count']}).reset_index(col_level=1)\n",
    "    df3.columns = ['userid', 'order_count']\n",
    "    df3.rename_axis(axis=1)\n",
    "    if(df3.shape[0]==0):\n",
    "        break\n",
    "    print(\"For data between: [{}, {}]\".format(str(lower_limit.date()), str(upper_limit.date())), end='\\t')\n",
    "    print(\"Cohort 2: {}({}%) | Cohort 3: {}({}%) | Cohort 4: {}({}%)\".format(\n",
    "    \n",
    "        df3[df3.order_count<=1].shape[0], round(df3[df3.order_count<=1].shape[0]/df3.shape[0]*100, 1),\n",
    "        df3[(df3.order_count>=2)&(df3.order_count<=4)].shape[0], round(df3[(df3.order_count>=2)&(df3.order_count<=4)].shape[0]/df3.shape[0]*100, 1),\n",
    "        df3[df3.order_count>4].shape[0], round(df3[df3.order_count>4].shape[0]/df3.shape[0]*100, 1)\n",
    "    ))\n",
    "    "
   ]
  },
  {
   "cell_type": "code",
   "execution_count": 287,
   "id": "9c072aaa-ec57-45b3-b79c-9e6a8e1d50c6",
   "metadata": {},
   "outputs": [],
   "source": [
    "# Note: If we plot the same graph for other weeks as well we see a similar distribution. Therefore, we can say that the trend remains the same across weeeks\n",
    "# On the face of it, this looks like a good approach but there is one caveat in this, we have not investigated that how many users come repeatedly every week.\n",
    "# This is important because, if only small number of users make repeat order week on week, then there will be a lot of movement of users in different cohorts.\n",
    "# When there is a lot of moment of users among the cohorts then, it would be difficult to design models that run specifically on some cohorts and it would become,\n",
    "# furthore difficult to track the performance of those models.\n",
    "\n",
    "\n",
    "# To tackle this issue, we can increase our window on one week and see what percetnage of users make orders atleast once in the new window period."
   ]
  },
  {
   "cell_type": "code",
   "execution_count": 288,
   "id": "685c0b98-f61b-4f83-8389-d306b0b0298c",
   "metadata": {},
   "outputs": [
    {
     "data": {
      "text/html": [
       "<div>\n",
       "<style scoped>\n",
       "    .dataframe tbody tr th:only-of-type {\n",
       "        vertical-align: middle;\n",
       "    }\n",
       "\n",
       "    .dataframe tbody tr th {\n",
       "        vertical-align: top;\n",
       "    }\n",
       "\n",
       "    .dataframe thead th {\n",
       "        text-align: right;\n",
       "    }\n",
       "</style>\n",
       "<table border=\"1\" class=\"dataframe\">\n",
       "  <thead>\n",
       "    <tr style=\"text-align: right;\">\n",
       "      <th></th>\n",
       "      <th>user_id</th>\n",
       "      <th>week</th>\n",
       "    </tr>\n",
       "  </thead>\n",
       "  <tbody>\n",
       "    <tr>\n",
       "      <th>0</th>\n",
       "      <td>0000602f168960c53835096f2daad506a80fcef2b4b13a...</td>\n",
       "      <td>1</td>\n",
       "    </tr>\n",
       "    <tr>\n",
       "      <th>1</th>\n",
       "      <td>0001b82c569a333a80c48f2004827e4a8e5be5840fbd9b...</td>\n",
       "      <td>1</td>\n",
       "    </tr>\n",
       "    <tr>\n",
       "      <th>2</th>\n",
       "      <td>000700164cee77c05439c206a588b66fe734150ede585f...</td>\n",
       "      <td>12</td>\n",
       "    </tr>\n",
       "  </tbody>\n",
       "</table>\n",
       "</div>"
      ],
      "text/plain": [
       "                                             user_id  week\n",
       "0  0000602f168960c53835096f2daad506a80fcef2b4b13a...     1\n",
       "1  0001b82c569a333a80c48f2004827e4a8e5be5840fbd9b...     1\n",
       "2  000700164cee77c05439c206a588b66fe734150ede585f...    12"
      ]
     },
     "execution_count": 288,
     "metadata": {},
     "output_type": "execute_result"
    }
   ],
   "source": [
    "# Number of users making atleast one purchase in 1 week\n",
    "\n",
    "week_wise_distinct_users = purchase_history[['user_id', 'timestamp']].copy(deep=True)\n",
    "week_wise_distinct_users['week'] = purchase_history['timestamp'].apply(lambda x: str(x.date().isocalendar().week))\n",
    "week_wise_distinct_users = week_wise_distinct_users.groupby('user_id').agg({'week': lambda x: len(set(x))}).reset_index()\n",
    "week_wise_distinct_users.head(3)"
   ]
  },
  {
   "cell_type": "code",
   "execution_count": 289,
   "id": "665af80b-3a21-413b-8f85-0fc97b6b85ad",
   "metadata": {},
   "outputs": [
    {
     "name": "stdout",
     "output_type": "stream",
     "text": [
      "Number of weeks in the dataset: 18\n"
     ]
    }
   ],
   "source": [
    "total_weeks = week_wise_distinct_users['week'].nunique()\n",
    "print(f\"Number of weeks in the dataset: {total_weeks}\")"
   ]
  },
  {
   "cell_type": "code",
   "execution_count": 290,
   "id": "dec1bd04-54be-4eb6-ba6d-0b49a613683f",
   "metadata": {},
   "outputs": [],
   "source": [
    "# Since that data for the first week (in August) and last week (in December) is incomplete. We roughly consider that there are 16 weeks"
   ]
  },
  {
   "cell_type": "code",
   "execution_count": 291,
   "id": "f7a45bdf-8871-469c-b3b6-98e60bed26ca",
   "metadata": {},
   "outputs": [
    {
     "name": "stdout",
     "output_type": "stream",
     "text": [
      "Percenage of users, who made atleast one purchse in 1 week: 2.09%\n"
     ]
    }
   ],
   "source": [
    "# Now we see that what percentage of users made atleast one purchase every week\n",
    "print(\"Percenage of users, who made atleast one purchse in 1 week: {}%\".format(round(week_wise_distinct_users[week_wise_distinct_users['week']>16].shape[0]/purchase_history['user_id'].nunique()*100, 2)))"
   ]
  },
  {
   "cell_type": "markdown",
   "id": "7011f81f-acd1-4eae-a13e-368d8051f4f9",
   "metadata": {},
   "source": [
    "### 3.2. Based on number of orders in a month"
   ]
  },
  {
   "cell_type": "code",
   "execution_count": 292,
   "id": "799b6b2a-faf8-4be1-8fe3-ba8d72d2fc45",
   "metadata": {},
   "outputs": [],
   "source": [
    "# We see that this is a very small number, therefore we need to incease the window from 1 week to a month\n",
    "# We can also, investigate the window period of 2 weeks but that still would be a small number"
   ]
  },
  {
   "cell_type": "code",
   "execution_count": 294,
   "id": "71d3af92-e44c-4be2-926c-bb6908fc201d",
   "metadata": {},
   "outputs": [
    {
     "name": "stdout",
     "output_type": "stream",
     "text": [
      "Plot for data between: [2022-08-16, 2022-09-15]\n"
     ]
    }
   ],
   "source": [
    "lower_limit = datetime.strptime('2022-08-16', '%Y-%m-%d')\n",
    "upper_limit = lower_limit + timedelta(days=30)\n",
    "\n",
    "print(\"Plot for data between: [{}, {}]\".format(lower_limit.date(), upper_limit.date()))\n",
    "n_order_month = purchase_history[(purchase_history.timestamp >= lower_limit) & (purchase_history.timestamp <= upper_limit)].groupby('user_id').agg({'purchase_value':['count']}).reset_index(col_level=1)\n",
    "\n",
    "n_order_month.columns = ['userid', 'purchase_count']\n",
    "n_order_month.rename_axis(axis=1)\n",
    "n_order_month_agg = n_order_month.groupby('purchase_count').agg('count').reset_index()\n",
    "n_order_month_agg.columns = ['purchase_count', 'n_users']\n",
    "\n",
    "n_order_month_agg['per'] = n_order_month_agg['n_users']/sum(n_order_month_agg['n_users'])*100\n",
    "n_order_month_agg['cum_per'] = n_order_month_agg['per'].cumsum()\n",
    "# n_order_month_agg"
   ]
  },
  {
   "cell_type": "code",
   "execution_count": 295,
   "id": "e6ca2137-8eac-4713-bb0d-8a00ed78192d",
   "metadata": {},
   "outputs": [
    {
     "data": {
      "image/png": "[encoded data removed]",
      "text/plain": [
       "<Figure size 792x432 with 1 Axes>"
      ]
     },
     "metadata": {},
     "output_type": "display_data"
    }
   ],
   "source": [
    "n_order_month['cohort'] = 1\n",
    "n_order_month.loc[(n_order_month['purchase_count']>=1) &(n_order_month['purchase_count']<=2), 'cohort'] = 2\n",
    "n_order_month.loc[(n_order_month['purchase_count']>=3) &(n_order_month['purchase_count']<=9), 'cohort'] = 3\n",
    "n_order_month.loc[(n_order_month['purchase_count']>=10), 'cohort'] = 4\n",
    "\n",
    "n_order_month['cohort'].value_counts().plot.pie(subplots=True, figsize=(11, 6), title=\"Cohort distribution\",\n",
    "                                              autopct='%1.1f%%', explode=([0.01]*n_order_month['cohort'].nunique()), startangle=0);"
   ]
  },
  {
   "cell_type": "code",
   "execution_count": null,
   "id": "47a6a0ca-2d95-4c68-b9e0-4794ed91a4aa",
   "metadata": {},
   "outputs": [],
   "source": [
    "# Clearly from above we see that we can create a number of segments/cohorts for the user's based of their repeat history\n",
    "# From visual inspection lets create 4 cohorts\n",
    "\n",
    "# Cohort 1: order_count     x<1: New user (Cold user)\n",
    "# Cohort 2: order_count 1>=x<=2: Low repeat users (Sparse user)\n",
    "# Cohort 3: order_count 3=<x<=9: Medium repeat users (Dense user)\n",
    "# Cohort 4: order_count     x>9: High repeat users (Densest user)\n",
    "\n",
    "# Note: From the data we observe that this distrinution remains same over the months"
   ]
  },
  {
   "cell_type": "code",
   "execution_count": 296,
   "id": "e4eae095-3d14-4f8f-b0fc-bdd6083fcf8b",
   "metadata": {},
   "outputs": [
    {
     "name": "stdout",
     "output_type": "stream",
     "text": [
      "For data between: [2022-08-16, 2022-09-15]\tCohort 2: 7248(59.0%) | Cohort 3: 4246(34.5%) | Cohort 4: 801(6.5%)\n",
      "For data between: [2022-09-16, 2022-10-16]\tCohort 2: 7357(56.9%) | Cohort 3: 4611(35.6%) | Cohort 4: 973(7.5%)\n",
      "For data between: [2022-10-17, 2022-11-16]\tCohort 2: 7952(57.1%) | Cohort 3: 4839(34.7%) | Cohort 4: 1136(8.2%)\n",
      "For data between: [2022-11-17, 2022-12-17]\tCohort 2: 7192(53.1%) | Cohort 3: 5053(37.3%) | Cohort 4: 1289(9.5%)\n"
     ]
    }
   ],
   "source": [
    "# Let now find the distribution of users in these cohorts across non-overlapping months\n",
    "\n",
    "upper_limit = datetime.strptime('2022-08-15', '%Y-%m-%d')\n",
    "while(True):\n",
    "    lower_limit = upper_limit +  timedelta(days=1)\n",
    "    upper_limit = lower_limit + timedelta(days=30)\n",
    "    df3 = purchase_history[(purchase_history.timestamp >= lower_limit) & (purchase_history.timestamp <= upper_limit)].groupby('user_id').agg({'purchase_value':['count']}).reset_index(col_level=1)\n",
    "    df3.columns = ['userid', 'order_count']\n",
    "    df3.rename_axis(axis=1)\n",
    "    if(df3.shape[0]==0):\n",
    "        break\n",
    "    print(\"For data between: [{}, {}]\".format(str(lower_limit.date()), str(upper_limit.date())), end='\\t')\n",
    "    print(\"Cohort 2: {}({}%) | Cohort 3: {}({}%) | Cohort 4: {}({}%)\".format(\n",
    "    \n",
    "        df3[df3.order_count<=2].shape[0], round(df3[df3.order_count<=2].shape[0]/df3.shape[0]*100, 1),\n",
    "        df3[(df3.order_count>=3)&(df3.order_count<=9)].shape[0], round(df3[(df3.order_count>=3)&(df3.order_count<=9)].shape[0]/df3.shape[0]*100, 1),\n",
    "        df3[df3.order_count>9].shape[0], round(df3[df3.order_count>9].shape[0]/df3.shape[0]*100, 1)\n",
    "    ))\n",
    "    "
   ]
  },
  {
   "cell_type": "code",
   "execution_count": 297,
   "id": "c59f1f0a-aa55-428f-a5ac-aa2b44cd908d",
   "metadata": {},
   "outputs": [],
   "source": [
    "# Note: The window of 1 month and 1 week both are fine, it depends on the use case which one to use\n",
    "# Generally for most use cases, a window of 1 month will be fine, but for some use cases we might use a window of 1 week."
   ]
  },
  {
   "cell_type": "markdown",
   "id": "88060de7-789d-4534-912d-0d4e05752010",
   "metadata": {},
   "source": [
    "### 3.3. Cohorting users based on AOV"
   ]
  },
  {
   "cell_type": "code",
   "execution_count": 299,
   "id": "d32264f4-97df-44dc-b1ad-3add782136f3",
   "metadata": {},
   "outputs": [
    {
     "name": "stdout",
     "output_type": "stream",
     "text": [
      "Plot for data between: [2022-08-16, 2022-09-15]\n"
     ]
    },
    {
     "data": {
      "text/html": [
       "<div>\n",
       "<style scoped>\n",
       "    .dataframe tbody tr th:only-of-type {\n",
       "        vertical-align: middle;\n",
       "    }\n",
       "\n",
       "    .dataframe tbody tr th {\n",
       "        vertical-align: top;\n",
       "    }\n",
       "\n",
       "    .dataframe thead th {\n",
       "        text-align: right;\n",
       "    }\n",
       "</style>\n",
       "<table border=\"1\" class=\"dataframe\">\n",
       "  <thead>\n",
       "    <tr style=\"text-align: right;\">\n",
       "      <th></th>\n",
       "      <th>aov</th>\n",
       "    </tr>\n",
       "  </thead>\n",
       "  <tbody>\n",
       "    <tr>\n",
       "      <th>count</th>\n",
       "      <td>12295.000000</td>\n",
       "    </tr>\n",
       "    <tr>\n",
       "      <th>mean</th>\n",
       "      <td>334.623278</td>\n",
       "    </tr>\n",
       "    <tr>\n",
       "      <th>std</th>\n",
       "      <td>219.198597</td>\n",
       "    </tr>\n",
       "    <tr>\n",
       "      <th>min</th>\n",
       "      <td>25.000000</td>\n",
       "    </tr>\n",
       "    <tr>\n",
       "      <th>25%</th>\n",
       "      <td>195.000000</td>\n",
       "    </tr>\n",
       "    <tr>\n",
       "      <th>50%</th>\n",
       "      <td>288.142857</td>\n",
       "    </tr>\n",
       "    <tr>\n",
       "      <th>75%</th>\n",
       "      <td>412.000000</td>\n",
       "    </tr>\n",
       "    <tr>\n",
       "      <th>max</th>\n",
       "      <td>3012.500000</td>\n",
       "    </tr>\n",
       "  </tbody>\n",
       "</table>\n",
       "</div>"
      ],
      "text/plain": [
       "                aov\n",
       "count  12295.000000\n",
       "mean     334.623278\n",
       "std      219.198597\n",
       "min       25.000000\n",
       "25%      195.000000\n",
       "50%      288.142857\n",
       "75%      412.000000\n",
       "max     3012.500000"
      ]
     },
     "execution_count": 299,
     "metadata": {},
     "output_type": "execute_result"
    }
   ],
   "source": [
    "lower_limit = datetime.strptime('2022-08-16', '%Y-%m-%d')\n",
    "upper_limit = lower_limit + timedelta(days=30)\n",
    "\n",
    "print(\"Plot for data between: [{}, {}]\".format(lower_limit.date(), upper_limit.date()))\n",
    "aov_month = purchase_history[(purchase_history.timestamp >= lower_limit) & (purchase_history.timestamp <= upper_limit)].groupby('user_id').agg({'purchase_value':['mean']}).reset_index(col_level=1)\n",
    "\n",
    "aov_month.columns = ['userid', 'aov']\n",
    "aov_month.rename_axis(axis=1)\n",
    "\n",
    "aov_month['aov'].describe().to_frame()"
   ]
  },
  {
   "cell_type": "code",
   "execution_count": 300,
   "id": "504b0fa4-48dd-4d4f-9c86-2915fce419c4",
   "metadata": {},
   "outputs": [
    {
     "name": "stdout",
     "output_type": "stream",
     "text": [
      "Percentage of users covered in filtered data of users: 99.0%\n"
     ]
    }
   ],
   "source": [
    "# For the purposes of visualization, from the distribution of aov, if we remove a few extreme values then we get\n",
    "aov_month_filtered = aov_month[aov_month['aov']<= aov_month['aov'].quantile(0.99)]\n",
    "print(\"Percentage of users covered in filtered data of users: {}%\".format(round(aov_month_filtered.shape[0]/aov_month.shape[0]*100, 3)))"
   ]
  },
  {
   "cell_type": "code",
   "execution_count": 301,
   "id": "ffd4db7b-7a44-4b2d-9782-d323bdda83f4",
   "metadata": {},
   "outputs": [
    {
     "data": {
      "image/png": "[encoded data removed]",
      "text/plain": [
       "<Figure size 1440x576 with 1 Axes>"
      ]
     },
     "metadata": {
      "needs_background": "light"
     },
     "output_type": "display_data"
    }
   ],
   "source": [
    "aov_month_filtered['aov'].hist(bins=100, figsize=(20,8));"
   ]
  },
  {
   "cell_type": "code",
   "execution_count": 302,
   "id": "09e289cc-b5d6-4d7f-a4e1-54199cceade5",
   "metadata": {},
   "outputs": [],
   "source": [
    "# Now, depending upon the use case we can either classify users into 3, 4 or more cohorts\n",
    "# Lets for the purposes of an example wedecide to segment users in 4 cohorts\n",
    "\n",
    "# The heuristic that we are using here to cohort users is the quantile stats of the aov\n",
    "# We can have cohorts based on following definition\n",
    "\n",
    "# Cohort 1: aov                   x==0               : New user\n",
    "# Cohort 2: aov                   x<  25th percentile: Low aov/gmv user\n",
    "# Cohort 3: aov 25th percentile  >x<= 75th percentile: Medium aov/gmv user\n",
    "# Cohort 4: aov 75th percentile  >x<= 90th percentile: High aov/gmv user\n",
    "# Cohort 5: aov 75th percentile  >x                  : Very high aov/gmv user\n",
    "\n",
    "# Note: we can adjust the cohort boundaries to adjust the number of users falling in each cohort according to the use case"
   ]
  },
  {
   "cell_type": "code",
   "execution_count": 303,
   "id": "7ec5a65d-4031-4899-8a0c-28ba12939400",
   "metadata": {},
   "outputs": [
    {
     "data": {
      "image/png": "[encoded data removed]",
      "text/plain": [
       "<Figure size 792x432 with 1 Axes>"
      ]
     },
     "metadata": {},
     "output_type": "display_data"
    }
   ],
   "source": [
    "aov_month['cohort'] = 1\n",
    "aov_month.loc[(aov_month['aov']<= aov_month['aov'].quantile(0.25)), 'cohort'] = 2\n",
    "aov_month.loc[(aov_month['aov'] > aov_month['aov'].quantile(0.25))&(aov_month['aov']<= aov_month['aov'].quantile(0.75)), 'cohort'] = 3\n",
    "aov_month.loc[(aov_month['aov'] > aov_month['aov'].quantile(0.75))&(aov_month['aov']<= aov_month['aov'].quantile(0.90)), 'cohort'] = 4\n",
    "aov_month.loc[aov_month['aov'] > aov_month['aov'].quantile(0.90), 'cohort'] = 5\n",
    "\n",
    "aov_month['cohort'].value_counts().plot.pie(subplots=True, figsize=(11, 6), title=\"Cohort distribution\",\n",
    "                                              autopct='%1.1f%%',explode=([0.01]*aov_month['cohort'].nunique()),  startangle=0);"
   ]
  },
  {
   "cell_type": "code",
   "execution_count": 309,
   "id": "043e2ab7-ba19-46a1-a0f6-d64f92cd3f85",
   "metadata": {},
   "outputs": [
    {
     "name": "stdout",
     "output_type": "stream",
     "text": [
      "For data between: [2022-08-16, 2022-09-15]\tCohort 2: 3083(25.1%) | Cohort 3: 6140(49.9%) | Cohort 4: 1842(15.0%  | Cohort 5: 1230(10.0%)\n",
      "For data between: [2022-09-16, 2022-10-16]\tCohort 2: 3249(25.1%) | Cohort 3: 6464(49.9%) | Cohort 4: 1934(14.9%  | Cohort 5: 1294(10.0%)\n",
      "For data between: [2022-10-17, 2022-11-16]\tCohort 2: 3485(25.0%) | Cohort 3: 6967(50.0%) | Cohort 4: 2082(14.9%  | Cohort 5: 1393(10.0%)\n",
      "For data between: [2022-11-17, 2022-12-17]\tCohort 2: 3390(25.0%) | Cohort 3: 6761(50.0%) | Cohort 4: 2029(15.0%  | Cohort 5: 1354(10.0%)\n"
     ]
    }
   ],
   "source": [
    "# Let now find the distribution of users in these cohorts across non-overlapping months\n",
    "\n",
    "upper_limit = datetime.strptime('2022-08-15', '%Y-%m-%d')\n",
    "while(True):\n",
    "    lower_limit = upper_limit +  timedelta(days=1)\n",
    "    upper_limit = lower_limit + timedelta(days=30)\n",
    "    df3 = purchase_history[(purchase_history.timestamp >= lower_limit) & (purchase_history.timestamp <= upper_limit)].groupby('user_id').agg({'purchase_value':['mean']}).reset_index(col_level=1)\n",
    "    df3.columns = ['userid', 'aov']\n",
    "    df3.rename_axis(axis=1)\n",
    "    if(df3.shape[0]==0):\n",
    "        break\n",
    "    print(\"For data between: [{}, {}]\".format(str(lower_limit.date()), str(upper_limit.date())), end='\\t')\n",
    "    print(\"Cohort 2: {}({}%) | Cohort 3: {}({}%) | Cohort 4: {}({}%  | Cohort 5: {}({}%)\".format(\n",
    "    \n",
    "        df3[df3['aov']<= df3['aov'].quantile(0.25)].shape[0], round(df3[df3['aov']<= df3['aov'].quantile(0.25)].shape[0]/df3.shape[0]*100, 1),\n",
    "        df3[(df3['aov'] > df3['aov'].quantile(0.25))&(df3['aov']<= df3['aov'].quantile(0.75))].shape[0], round(df3[(df3['aov'] > df3['aov'].quantile(0.25))&(df3['aov']<= df3['aov'].quantile(0.75))].shape[0]/df3.shape[0]*100, 1),\n",
    "        df3[(df3['aov'] > df3['aov'].quantile(0.75))&(df3['aov']<= df3['aov'].quantile(0.90))].shape[0], round(df3[(df3['aov'] > df3['aov'].quantile(0.75))&(df3['aov']<= df3['aov'].quantile(0.90))].shape[0]/df3.shape[0]*100, 1),\n",
    "        df3[df3['aov']> df3['aov'].quantile(0.90)].shape[0], round(df3[df3['aov']> df3['aov'].quantile(0.90)].shape[0]/df3.shape[0]*100, 1),\n",
    "    ))"
   ]
  },
  {
   "cell_type": "code",
   "execution_count": null,
   "id": "3de9a535-caf4-48a6-bc4c-b68413550687",
   "metadata": {},
   "outputs": [],
   "source": [
    "# This was expected since this cohorting logic is based on qunatiles therefore the %age of users in each cohort will remain constant over months"
   ]
  },
  {
   "cell_type": "markdown",
   "id": "8bd226bf-494c-477e-ad56-62b4f85ce747",
   "metadata": {},
   "source": [
    "### 3.4. Cohorting users based on RFM\n",
    "\n",
    "###### - Another possible way is to group users based on the recency of their last purchase, often called RFM( Recency, Frequency, Monetary) analysis. This can help identify which users are most likely to make a purchase in the near future, and allow you to target your marketing efforts to those users."
   ]
  },
  {
   "cell_type": "code",
   "execution_count": 328,
   "id": "74dd69c5-4586-40aa-ac8d-7296803d1c22",
   "metadata": {
    "tags": []
   },
   "outputs": [
    {
     "name": "stdout",
     "output_type": "stream",
     "text": [
      "Plot for data between: [2022-08-16, 2022-09-15]\n"
     ]
    }
   ],
   "source": [
    "# Calculating cohorts based on RFM parameters using a month data\n",
    "\n",
    "lower_limit = datetime.strptime('2022-08-16', '%Y-%m-%d')\n",
    "upper_limit = lower_limit + timedelta(days=30)\n",
    "\n",
    "print(\"Plot for data between: [{}, {}]\".format(lower_limit.date(), upper_limit.date()))\n",
    "month_purchase_history = purchase_history[(purchase_history.timestamp >= lower_limit) & (purchase_history.timestamp <= upper_limit)].reset_index()\n",
    "\n",
    "max_date = month_purchase_history[\"timestamp\"].max()\n",
    "\n",
    "# calculate the recency in days\n",
    "month_purchase_history[\"recency\"] = (max_date - month_purchase_history[\"timestamp\"]).dt.days\n",
    "\n",
    "# Group the data by user\n",
    "user_groups = month_purchase_history.groupby(\"user_id\")\n",
    "\n",
    "# Create a new DataFrame to hold the segmentation data\n",
    "segmentation = pd.DataFrame()\n",
    "\n",
    "# Add a column for the recency\n",
    "segmentation[\"recency\"] = user_groups[\"recency\"].min()\n",
    "\n",
    "# Add a column for the frequency\n",
    "segmentation[\"frequency\"] = user_groups[\"purchase_value\"].count()\n",
    "\n",
    "# Add a column for the monetary\n",
    "segmentation[\"monetary\"] = user_groups[\"purchase_value\"].sum()\n",
    "\n",
    "# Set the index of the DataFrame to be the user IDs\n",
    "segmentation.reset_index(level=0, inplace=True)"
   ]
  },
  {
   "cell_type": "code",
   "execution_count": 377,
   "id": "03a270a2-cc7b-4273-919d-a03a78d8da07",
   "metadata": {},
   "outputs": [],
   "source": [
    "# Define the quartile ranges for recency, frequency and monetary\n",
    "r_quartile = pd.qcut(segmentation[\"recency\"], q=4, labels=[\"Most Recent\", \"Recent\", \"Mid-Recent\",\"Least Recent\"])\n",
    "f_quartile = pd.qcut(segmentation[\"frequency\"], q=4, labels=[\"Highly frequent\", \"Mid-Frequent\", \"Rare\"], duplicates='drop')\n",
    "m_quartile = pd.qcut(segmentation[\"monetary\"], q=4, labels=[\"Highly Valuable\", \"Valuable\", \"Mid-Valuable\",\"Not Valuable\"])\n",
    "\n",
    "# Add the quartile labels to the DataFrame\n",
    "segmentation[\"r_quartile\"] = r_quartile\n",
    "segmentation[\"f_quartile\"] = f_quartile\n",
    "segmentation[\"m_quartile\"] = m_quartile"
   ]
  },
  {
   "cell_type": "code",
   "execution_count": 378,
   "id": "26426f27-0c2a-48d9-9025-653abf66f812",
   "metadata": {
    "tags": []
   },
   "outputs": [
    {
     "data": {
      "text/html": [
       "<div>\n",
       "<style scoped>\n",
       "    .dataframe tbody tr th:only-of-type {\n",
       "        vertical-align: middle;\n",
       "    }\n",
       "\n",
       "    .dataframe tbody tr th {\n",
       "        vertical-align: top;\n",
       "    }\n",
       "\n",
       "    .dataframe thead th {\n",
       "        text-align: right;\n",
       "    }\n",
       "</style>\n",
       "<table border=\"1\" class=\"dataframe\">\n",
       "  <thead>\n",
       "    <tr style=\"text-align: right;\">\n",
       "      <th></th>\n",
       "      <th>user_id</th>\n",
       "      <th>recency</th>\n",
       "      <th>frequency</th>\n",
       "      <th>monetary</th>\n",
       "      <th>r_quartile</th>\n",
       "      <th>f_quartile</th>\n",
       "      <th>m_quartile</th>\n",
       "    </tr>\n",
       "  </thead>\n",
       "  <tbody>\n",
       "    <tr>\n",
       "      <th>0</th>\n",
       "      <td>0001b82c569a333a80c48f2004827e4a8e5be5840fbd9b...</td>\n",
       "      <td>0</td>\n",
       "      <td>1</td>\n",
       "      <td>113.0</td>\n",
       "      <td>Most Recent</td>\n",
       "      <td>Highly frequent</td>\n",
       "      <td>Highly Valuable</td>\n",
       "    </tr>\n",
       "    <tr>\n",
       "      <th>1</th>\n",
       "      <td>000700164cee77c05439c206a588b66fe734150ede585f...</td>\n",
       "      <td>1</td>\n",
       "      <td>3</td>\n",
       "      <td>561.0</td>\n",
       "      <td>Most Recent</td>\n",
       "      <td>Mid-Frequent</td>\n",
       "      <td>Valuable</td>\n",
       "    </tr>\n",
       "    <tr>\n",
       "      <th>2</th>\n",
       "      <td>001481e9e6ea150295c6e7664c9eb824dc2393ede3a88d...</td>\n",
       "      <td>5</td>\n",
       "      <td>1</td>\n",
       "      <td>327.0</td>\n",
       "      <td>Recent</td>\n",
       "      <td>Highly frequent</td>\n",
       "      <td>Valuable</td>\n",
       "    </tr>\n",
       "  </tbody>\n",
       "</table>\n",
       "</div>"
      ],
      "text/plain": [
       "                                             user_id  recency  frequency  \\\n",
       "0  0001b82c569a333a80c48f2004827e4a8e5be5840fbd9b...        0          1   \n",
       "1  000700164cee77c05439c206a588b66fe734150ede585f...        1          3   \n",
       "2  001481e9e6ea150295c6e7664c9eb824dc2393ede3a88d...        5          1   \n",
       "\n",
       "   monetary   r_quartile       f_quartile       m_quartile  \n",
       "0     113.0  Most Recent  Highly frequent  Highly Valuable  \n",
       "1     561.0  Most Recent     Mid-Frequent         Valuable  \n",
       "2     327.0       Recent  Highly frequent         Valuable  "
      ]
     },
     "execution_count": 378,
     "metadata": {},
     "output_type": "execute_result"
    }
   ],
   "source": [
    "segmentation.head(3)"
   ]
  },
  {
   "cell_type": "code",
   "execution_count": null,
   "id": "bf495fec-fc01-4561-b054-e7c730b65f4b",
   "metadata": {},
   "outputs": [],
   "source": [
    "# For the purposes of this assignment, I am just writing the further steps in this approach in words rather than writing the code as the actual implimentation \n",
    "# will depend on the use case. In this approach we can assign a number with each of the element in classes of recency, frequency, monetary. Then, we can \n",
    "# assign the weights to the classes itself based on heuritic depending upon the use case.\n",
    "\n",
    "# Now, we come up with an overall score for the user which will be a weighted sum of class_weight*element_value\n",
    "# Once we get this overall score then we can create different cohorts based on this score.\n",
    "\n",
    "# Example:\n",
    "# Lets assume we assign equal weights to each of the classes (recency, frequency, monetary) of [1, 1, 1]\n",
    "# Also, for simplicity we lets assume we assign the elements of these classes similar number \n",
    "# Most Recent -> 4, Recent -> 3, Mid-Recent -> 2, Least Recent -> 1\n",
    "# Highly frequent-> 3, Mid-Frequent -> 2, Rare -> 1\n",
    "# and so on...\n",
    "\n",
    "# Now to get the overall score for lets say user_id == '0001b82c569a333a80c48f2004827e4a8e5be5840fbd9b69ac0379e0de0d8dd7' (say u1)\n",
    "# overall_score for u1 = 1*4 + 1*3 + 1*4 = 11\n",
    "\n",
    "# Similarly we can get the score for all uses and then we can get the distribution of these scores.\n",
    "# Based on the distribution and the use case, we can define different cohorts based on quantiles or binning logic\n",
    "\n",
    "# Important note: We actual class weights will arrive from some heuristic or some business logic and is taken [1, 1, 1] in the example just for explanation"
   ]
  },
  {
   "cell_type": "markdown",
   "id": "b2df4802-6028-474e-a107-d953381ad5e4",
   "metadata": {},
   "source": [
    "## 4. User segmentation"
   ]
  },
  {
   "cell_type": "code",
   "execution_count": 478,
   "id": "82dbe342-291a-4676-9799-1f57fb6ff53f",
   "metadata": {},
   "outputs": [],
   "source": [
    "total_order_per_user = purchase_history['user_id'].value_counts().reset_index()\n",
    "total_order_per_user.columns = ['user_id', 'n_orders']"
   ]
  },
  {
   "cell_type": "code",
   "execution_count": 475,
   "id": "7c605ee1-15e1-4520-a4b0-cdc5acb03773",
   "metadata": {},
   "outputs": [
    {
     "data": {
      "text/html": [
       "<div>\n",
       "<style scoped>\n",
       "    .dataframe tbody tr th:only-of-type {\n",
       "        vertical-align: middle;\n",
       "    }\n",
       "\n",
       "    .dataframe tbody tr th {\n",
       "        vertical-align: top;\n",
       "    }\n",
       "\n",
       "    .dataframe thead th {\n",
       "        text-align: right;\n",
       "    }\n",
       "</style>\n",
       "<table border=\"1\" class=\"dataframe\">\n",
       "  <thead>\n",
       "    <tr style=\"text-align: right;\">\n",
       "      <th></th>\n",
       "      <th>quantile</th>\n",
       "      <th>n_orders</th>\n",
       "    </tr>\n",
       "  </thead>\n",
       "  <tbody>\n",
       "    <tr>\n",
       "      <th>0</th>\n",
       "      <td>0.1</td>\n",
       "      <td>1.0</td>\n",
       "    </tr>\n",
       "    <tr>\n",
       "      <th>1</th>\n",
       "      <td>0.2</td>\n",
       "      <td>1.0</td>\n",
       "    </tr>\n",
       "    <tr>\n",
       "      <th>2</th>\n",
       "      <td>0.3</td>\n",
       "      <td>2.0</td>\n",
       "    </tr>\n",
       "    <tr>\n",
       "      <th>3</th>\n",
       "      <td>0.4</td>\n",
       "      <td>2.0</td>\n",
       "    </tr>\n",
       "    <tr>\n",
       "      <th>4</th>\n",
       "      <td>0.5</td>\n",
       "      <td>4.0</td>\n",
       "    </tr>\n",
       "    <tr>\n",
       "      <th>5</th>\n",
       "      <td>0.6</td>\n",
       "      <td>5.0</td>\n",
       "    </tr>\n",
       "    <tr>\n",
       "      <th>6</th>\n",
       "      <td>0.7</td>\n",
       "      <td>8.0</td>\n",
       "    </tr>\n",
       "    <tr>\n",
       "      <th>7</th>\n",
       "      <td>0.8</td>\n",
       "      <td>12.0</td>\n",
       "    </tr>\n",
       "    <tr>\n",
       "      <th>8</th>\n",
       "      <td>0.9</td>\n",
       "      <td>22.0</td>\n",
       "    </tr>\n",
       "    <tr>\n",
       "      <th>9</th>\n",
       "      <td>1.0</td>\n",
       "      <td>301.0</td>\n",
       "    </tr>\n",
       "  </tbody>\n",
       "</table>\n",
       "</div>"
      ],
      "text/plain": [
       "   quantile  n_orders\n",
       "0       0.1       1.0\n",
       "1       0.2       1.0\n",
       "2       0.3       2.0\n",
       "3       0.4       2.0\n",
       "4       0.5       4.0\n",
       "5       0.6       5.0\n",
       "6       0.7       8.0\n",
       "7       0.8      12.0\n",
       "8       0.9      22.0\n",
       "9       1.0     301.0"
      ]
     },
     "execution_count": 475,
     "metadata": {},
     "output_type": "execute_result"
    }
   ],
   "source": [
    "quantile_wise_order_df = total_order_per_user['n_orders'].quantile([i/10 for i in range(1, 11)])\n",
    "quantile_wise_order_df = quantile_wise_order_df.reset_index()\n",
    "quantile_wise_order_df.columns = ['quantile', 'n_orders']\n",
    "quantile_wise_order_df"
   ]
  },
  {
   "cell_type": "code",
   "execution_count": 477,
   "id": "760aab91-e3e5-45ed-9b17-ded322ba6b82",
   "metadata": {},
   "outputs": [
    {
     "data": {
      "image/png": "[encoded data removed]",
      "text/plain": [
       "<Figure size 1440x576 with 1 Axes>"
      ]
     },
     "metadata": {
      "needs_background": "light"
     },
     "output_type": "display_data"
    }
   ],
   "source": [
    "quantile_wise_order_df.plot.bar(x='quantile', y='n_orders', figsize=(20,8), grid=True);"
   ]
  },
  {
   "cell_type": "code",
   "execution_count": null,
   "id": "29e1d8ba-259c-42f5-89a6-65b33efd214a",
   "metadata": {},
   "outputs": [],
   "source": []
  },
  {
   "cell_type": "code",
   "execution_count": null,
   "id": "9aab0cb8-71a4-4695-85cc-84682a7a92d2",
   "metadata": {},
   "outputs": [],
   "source": [
    "purchase_history\n",
    "\n",
    "aov_month_filtered = aov_month[aov_month['aov']<= aov_month['aov'].quantile(0.99)]\n"
   ]
  }
 ],
 "metadata": {
  "kernelspec": {
   "display_name": "Python 3 (ipykernel)",
   "language": "python",
   "name": "python3"
  },
  "language_info": {
   "codemirror_mode": {
    "name": "ipython",
    "version": 3
   },
   "file_extension": ".py",
   "mimetype": "text/x-python",
   "name": "python",
   "nbconvert_exporter": "python",
   "pygments_lexer": "ipython3",
   "version": "3.9.12"
  }
 },
 "nbformat": 4,
 "nbformat_minor": 5
}
