{
 "cells": [
  {
   "cell_type": "markdown",
   "id": "f6715334-493e-4a6f-88c4-39c25d9b6abe",
   "metadata": {},
   "source": [
    "# Problem statement: Predict the customers that most likely to churn out of the platform"
   ]
  },
  {
   "cell_type": "markdown",
   "id": "5f4394aa-6809-44c8-866f-741a5952d8f6",
   "metadata": {},
   "source": [
    "## 1. Imports"
   ]
  },
  {
   "cell_type": "code",
   "execution_count": 1,
   "id": "d4a3cc19-4dd5-4a0e-a9b5-6b72666cec34",
   "metadata": {},
   "outputs": [],
   "source": [
    "import pandas as pd\n",
    "import numpy as np\n",
    "from datetime import datetime, timedelta"
   ]
  },
  {
   "cell_type": "markdown",
   "id": "ede9e427-c439-4734-81e6-93a4c04d0d47",
   "metadata": {},
   "source": [
    "## 2. Read the dataset"
   ]
  },
  {
   "cell_type": "code",
   "execution_count": 2,
   "id": "60cc7156-3f5a-4a47-9f1e-c897dd55196c",
   "metadata": {},
   "outputs": [],
   "source": [
    "purchase_history = pd.read_csv('dataset.csv')\n",
    "purchase_history['timestamp'] = purchase_history['timestamp'].apply(lambda x: datetime.strptime(x, '%Y-%m-%d %H:%M:%S.%f') + timedelta(hours=5, minutes=30))"
   ]
  },
  {
   "cell_type": "markdown",
   "id": "5f236358-320d-4fee-8720-4540d411bdca",
   "metadata": {},
   "source": [
    "## 3. Define churn"
   ]
  },
  {
   "cell_type": "markdown",
   "id": "3d4b4f20-f707-4fd9-aac5-9d3da3b270c5",
   "metadata": {},
   "source": [
    "### 3.1. Predictive modelling"
   ]
  },
  {
   "cell_type": "code",
   "execution_count": 3,
   "id": "d86aca73-3f56-459a-a131-8913c2635a35",
   "metadata": {},
   "outputs": [],
   "source": [
    "# For predicting the churn, lets first define churn\n",
    "# Since from the EDA and the cohorting logic we saw that for most use cases, a window of 1 month is fine,\n",
    "# therefore we consider that if a user has not made a purchase in the last 1 month, then we consider it as churn"
   ]
  },
  {
   "cell_type": "code",
   "execution_count": 4,
   "id": "c88617dc-05cf-4b6c-b4d4-442ba141c122",
   "metadata": {},
   "outputs": [],
   "source": [
    "purchase_history[\"date\"] = purchase_history[\"timestamp\"].apply(lambda x: x.date())"
   ]
  },
  {
   "cell_type": "code",
   "execution_count": 5,
   "id": "9596e2c5-9a06-428b-98ec-4c3dd415eda0",
   "metadata": {},
   "outputs": [
    {
     "name": "stdout",
     "output_type": "stream",
     "text": [
      "Cutoff date: 2022-11-14\n"
     ]
    }
   ],
   "source": [
    "cut_off_date = (purchase_history['date'].max() - timedelta(days=30))\n",
    "print(\"Cutoff date: {}\".format(cut_off_date))"
   ]
  },
  {
   "cell_type": "code",
   "execution_count": 6,
   "id": "660d394e-dc53-440c-9ab9-803c142bc3ca",
   "metadata": {},
   "outputs": [],
   "source": [
    "# Create a new column \"churned\" which is 1 if the customer has not made a purchase in the last 1 month (30 days)\n",
    "purchase_history[\"churned\"] = (purchase_history.groupby(\"user_id\")[\"date\"].transform(\"max\") >= cut_off_date).astype(int)"
   ]
  },
  {
   "cell_type": "markdown",
   "id": "6fd1f904-7ef3-42d1-979f-7bac069f6697",
   "metadata": {},
   "source": [
    "#### 3.1.1. Prepare features"
   ]
  },
  {
   "cell_type": "code",
   "execution_count": 7,
   "id": "49b31567-66c3-4b5c-8413-8033833f2707",
   "metadata": {},
   "outputs": [],
   "source": [
    "# Seggregate some users for validation"
   ]
  },
  {
   "cell_type": "code",
   "execution_count": 8,
   "id": "d87999bb-c21e-4925-bfe8-87732dfc01ef",
   "metadata": {},
   "outputs": [],
   "source": [
    "data_df = purchase_history[purchase_history['timestamp'].apply(lambda x: (x.date()<=cut_off_date))]"
   ]
  },
  {
   "cell_type": "code",
   "execution_count": 9,
   "id": "2d5ab092-5ed8-4a23-a136-d89017dcc042",
   "metadata": {},
   "outputs": [
    {
     "data": {
      "text/html": [
       "<div>\n",
       "<style scoped>\n",
       "    .dataframe tbody tr th:only-of-type {\n",
       "        vertical-align: middle;\n",
       "    }\n",
       "\n",
       "    .dataframe tbody tr th {\n",
       "        vertical-align: top;\n",
       "    }\n",
       "\n",
       "    .dataframe thead th {\n",
       "        text-align: right;\n",
       "    }\n",
       "</style>\n",
       "<table border=\"1\" class=\"dataframe\">\n",
       "  <thead>\n",
       "    <tr style=\"text-align: right;\">\n",
       "      <th></th>\n",
       "      <th>user_id</th>\n",
       "      <th>aov</th>\n",
       "      <th>tov</th>\n",
       "      <th>count</th>\n",
       "    </tr>\n",
       "  </thead>\n",
       "  <tbody>\n",
       "    <tr>\n",
       "      <th>0</th>\n",
       "      <td>0001b82c569a333a80c48f2004827e4a8e5be5840fbd9b...</td>\n",
       "      <td>113.000000</td>\n",
       "      <td>113.0</td>\n",
       "      <td>1</td>\n",
       "    </tr>\n",
       "    <tr>\n",
       "      <th>1</th>\n",
       "      <td>000700164cee77c05439c206a588b66fe734150ede585f...</td>\n",
       "      <td>214.684211</td>\n",
       "      <td>4079.0</td>\n",
       "      <td>19</td>\n",
       "    </tr>\n",
       "    <tr>\n",
       "      <th>2</th>\n",
       "      <td>001481e9e6ea150295c6e7664c9eb824dc2393ede3a88d...</td>\n",
       "      <td>327.000000</td>\n",
       "      <td>327.0</td>\n",
       "      <td>1</td>\n",
       "    </tr>\n",
       "  </tbody>\n",
       "</table>\n",
       "</div>"
      ],
      "text/plain": [
       "                                             user_id         aov     tov  \\\n",
       "0  0001b82c569a333a80c48f2004827e4a8e5be5840fbd9b...  113.000000   113.0   \n",
       "1  000700164cee77c05439c206a588b66fe734150ede585f...  214.684211  4079.0   \n",
       "2  001481e9e6ea150295c6e7664c9eb824dc2393ede3a88d...  327.000000   327.0   \n",
       "\n",
       "   count  \n",
       "0      1  \n",
       "1     19  \n",
       "2      1  "
      ]
     },
     "execution_count": 9,
     "metadata": {},
     "output_type": "execute_result"
    }
   ],
   "source": [
    "# Average order value, Total order value, Total number of orders\n",
    "feature_set1 = data_df.groupby('user_id').agg({'purchase_value': ['mean', 'sum', 'count']}).reset_index(col_level=1)\n",
    "feature_set1.columns = ['user_id', 'aov', 'tov', 'count']\n",
    "feature_set1.head(3)"
   ]
  },
  {
   "cell_type": "code",
   "execution_count": 10,
   "id": "3e415ff4-ddb6-4a6b-ad75-9a088acc5571",
   "metadata": {},
   "outputs": [],
   "source": [
    "# Age of the user\n",
    "def diff_in_days(group):\n",
    "    return (cut_off_date - group.min().date()).days\n",
    "\n",
    "differences = data_df.groupby('user_id')['timestamp'].apply(diff_in_days)\n",
    "feature_set2 = differences.to_frame().reset_index()\n",
    "feature_set2.columns = ['user_id', 'age']"
   ]
  },
  {
   "cell_type": "code",
   "execution_count": 11,
   "id": "e74cecbf-ee67-47fd-959a-647f59afb11f",
   "metadata": {},
   "outputs": [],
   "source": [
    "# Difference in days between first and the last purchase\n",
    "def diff_in_days(group):\n",
    "    return (group.max() - group.min()).days\n",
    "\n",
    "differences = data_df.groupby('user_id')['timestamp'].apply(diff_in_days)\n",
    "feature_set3 = differences.to_frame().reset_index()\n",
    "feature_set3.columns = ['user_id', 'gap']"
   ]
  },
  {
   "cell_type": "code",
   "execution_count": 12,
   "id": "928250df-498b-48f0-86dd-74d6fb2c0058",
   "metadata": {},
   "outputs": [],
   "source": [
    "# Recency\n",
    "def diff_in_days(group):\n",
    "    return (cut_off_date - group.max().date()).days\n",
    "\n",
    "differences = data_df.groupby('user_id')['timestamp'].apply(diff_in_days)\n",
    "feature_set4 = differences.to_frame().reset_index()\n",
    "feature_set4.columns = ['user_id', 'recency']"
   ]
  },
  {
   "cell_type": "code",
   "execution_count": 13,
   "id": "152ff069-5475-4938-a1c7-ca25803ca128",
   "metadata": {},
   "outputs": [],
   "source": [
    "# Mean gap between orders\n",
    "feature_set5 = data_df.groupby('user_id')[\"timestamp\"].apply(lambda x: x.sort_values(ascending=True).diff().mean().days).to_frame().reset_index(col_level=1)\n",
    "feature_set5.columns = ['user_id', 'average_gap']\n",
    "\n",
    "feature_set5 = feature_set5.fillna(value={\"average_gap\":0})\n",
    "feature_set5['average_gap'] = feature_set5['average_gap'].astype('int')"
   ]
  },
  {
   "cell_type": "code",
   "execution_count": 14,
   "id": "158533bf-351d-48be-97d8-f4a931d79165",
   "metadata": {},
   "outputs": [
    {
     "data": {
      "text/html": [
       "<div>\n",
       "<style scoped>\n",
       "    .dataframe tbody tr th:only-of-type {\n",
       "        vertical-align: middle;\n",
       "    }\n",
       "\n",
       "    .dataframe tbody tr th {\n",
       "        vertical-align: top;\n",
       "    }\n",
       "\n",
       "    .dataframe thead th {\n",
       "        text-align: right;\n",
       "    }\n",
       "</style>\n",
       "<table border=\"1\" class=\"dataframe\">\n",
       "  <thead>\n",
       "    <tr style=\"text-align: right;\">\n",
       "      <th></th>\n",
       "      <th>user_id</th>\n",
       "      <th>aov</th>\n",
       "      <th>tov</th>\n",
       "      <th>count</th>\n",
       "      <th>age</th>\n",
       "      <th>gap</th>\n",
       "      <th>recency</th>\n",
       "      <th>average_gap</th>\n",
       "      <th>churned</th>\n",
       "    </tr>\n",
       "  </thead>\n",
       "  <tbody>\n",
       "    <tr>\n",
       "      <th>0</th>\n",
       "      <td>0001b82c569a333a80c48f2004827e4a8e5be5840fbd9b...</td>\n",
       "      <td>113.000000</td>\n",
       "      <td>113.0</td>\n",
       "      <td>1</td>\n",
       "      <td>61</td>\n",
       "      <td>0</td>\n",
       "      <td>61</td>\n",
       "      <td>0</td>\n",
       "      <td>0</td>\n",
       "    </tr>\n",
       "    <tr>\n",
       "      <th>1</th>\n",
       "      <td>000700164cee77c05439c206a588b66fe734150ede585f...</td>\n",
       "      <td>214.684211</td>\n",
       "      <td>4079.0</td>\n",
       "      <td>19</td>\n",
       "      <td>84</td>\n",
       "      <td>83</td>\n",
       "      <td>1</td>\n",
       "      <td>4</td>\n",
       "      <td>1</td>\n",
       "    </tr>\n",
       "    <tr>\n",
       "      <th>2</th>\n",
       "      <td>001481e9e6ea150295c6e7664c9eb824dc2393ede3a88d...</td>\n",
       "      <td>327.000000</td>\n",
       "      <td>327.0</td>\n",
       "      <td>1</td>\n",
       "      <td>66</td>\n",
       "      <td>0</td>\n",
       "      <td>66</td>\n",
       "      <td>0</td>\n",
       "      <td>1</td>\n",
       "    </tr>\n",
       "  </tbody>\n",
       "</table>\n",
       "</div>"
      ],
      "text/plain": [
       "                                             user_id         aov     tov  \\\n",
       "0  0001b82c569a333a80c48f2004827e4a8e5be5840fbd9b...  113.000000   113.0   \n",
       "1  000700164cee77c05439c206a588b66fe734150ede585f...  214.684211  4079.0   \n",
       "2  001481e9e6ea150295c6e7664c9eb824dc2393ede3a88d...  327.000000   327.0   \n",
       "\n",
       "   count  age  gap  recency  average_gap  churned  \n",
       "0      1   61    0       61            0        0  \n",
       "1     19   84   83        1            4        1  \n",
       "2      1   66    0       66            0        1  "
      ]
     },
     "execution_count": 14,
     "metadata": {},
     "output_type": "execute_result"
    }
   ],
   "source": [
    "df = feature_set1.merge(feature_set2, on='user_id',how='left').merge(feature_set3, on='user_id',how='left').merge(feature_set4, on='user_id',how='left').merge(feature_set5, on='user_id',how='left')\n",
    "df = df.merge(data_df[['user_id', 'churned']].drop_duplicates(), on='user_id',how='left')  \n",
    "df.head(3)"
   ]
  },
  {
   "cell_type": "code",
   "execution_count": 15,
   "id": "73a90145-4605-4d17-bd2c-23b74592e402",
   "metadata": {},
   "outputs": [
    {
     "data": {
      "text/plain": [
       "1    0.541313\n",
       "0    0.458687\n",
       "Name: churned, dtype: float64"
      ]
     },
     "execution_count": 15,
     "metadata": {},
     "output_type": "execute_result"
    }
   ],
   "source": [
    "df['churned'].value_counts(normalize=True)"
   ]
  },
  {
   "cell_type": "markdown",
   "id": "d098e2b3-ed13-4ce4-a1af-6f910e40ec9a",
   "metadata": {},
   "source": [
    "#### 3.1.2. Remove outliers"
   ]
  },
  {
   "cell_type": "code",
   "execution_count": 16,
   "id": "c8e4b623-2a11-4825-9205-4e9f9339a0ff",
   "metadata": {},
   "outputs": [
    {
     "data": {
      "text/html": [
       "<div>\n",
       "<style scoped>\n",
       "    .dataframe tbody tr th:only-of-type {\n",
       "        vertical-align: middle;\n",
       "    }\n",
       "\n",
       "    .dataframe tbody tr th {\n",
       "        vertical-align: top;\n",
       "    }\n",
       "\n",
       "    .dataframe thead th {\n",
       "        text-align: right;\n",
       "    }\n",
       "</style>\n",
       "<table border=\"1\" class=\"dataframe\">\n",
       "  <thead>\n",
       "    <tr style=\"text-align: right;\">\n",
       "      <th></th>\n",
       "      <th>user_id</th>\n",
       "      <th>aov</th>\n",
       "      <th>tov</th>\n",
       "      <th>count</th>\n",
       "      <th>age</th>\n",
       "      <th>gap</th>\n",
       "      <th>recency</th>\n",
       "      <th>average_gap</th>\n",
       "      <th>churned</th>\n",
       "    </tr>\n",
       "  </thead>\n",
       "  <tbody>\n",
       "    <tr>\n",
       "      <th>0</th>\n",
       "      <td>0001b82c569a333a80c48f2004827e4a8e5be5840fbd9b...</td>\n",
       "      <td>113.000000</td>\n",
       "      <td>113.0</td>\n",
       "      <td>1</td>\n",
       "      <td>61</td>\n",
       "      <td>0</td>\n",
       "      <td>61</td>\n",
       "      <td>0</td>\n",
       "      <td>0</td>\n",
       "    </tr>\n",
       "    <tr>\n",
       "      <th>1</th>\n",
       "      <td>000700164cee77c05439c206a588b66fe734150ede585f...</td>\n",
       "      <td>214.684211</td>\n",
       "      <td>4079.0</td>\n",
       "      <td>19</td>\n",
       "      <td>84</td>\n",
       "      <td>83</td>\n",
       "      <td>1</td>\n",
       "      <td>4</td>\n",
       "      <td>1</td>\n",
       "    </tr>\n",
       "    <tr>\n",
       "      <th>2</th>\n",
       "      <td>001481e9e6ea150295c6e7664c9eb824dc2393ede3a88d...</td>\n",
       "      <td>327.000000</td>\n",
       "      <td>327.0</td>\n",
       "      <td>1</td>\n",
       "      <td>66</td>\n",
       "      <td>0</td>\n",
       "      <td>66</td>\n",
       "      <td>0</td>\n",
       "      <td>1</td>\n",
       "    </tr>\n",
       "  </tbody>\n",
       "</table>\n",
       "</div>"
      ],
      "text/plain": [
       "                                             user_id         aov     tov  \\\n",
       "0  0001b82c569a333a80c48f2004827e4a8e5be5840fbd9b...  113.000000   113.0   \n",
       "1  000700164cee77c05439c206a588b66fe734150ede585f...  214.684211  4079.0   \n",
       "2  001481e9e6ea150295c6e7664c9eb824dc2393ede3a88d...  327.000000   327.0   \n",
       "\n",
       "   count  age  gap  recency  average_gap  churned  \n",
       "0      1   61    0       61            0        0  \n",
       "1     19   84   83        1            4        1  \n",
       "2      1   66    0       66            0        1  "
      ]
     },
     "execution_count": 16,
     "metadata": {},
     "output_type": "execute_result"
    }
   ],
   "source": [
    "df_filtered = df[df['aov']<df['aov'].quantile(0.95)]\n",
    "df_filtered = df_filtered[df_filtered['tov']<df_filtered['tov'].quantile(0.95)]\n",
    "df_filtered.head(3)"
   ]
  },
  {
   "cell_type": "markdown",
   "id": "1691732d-d68d-4874-bf10-e6d7340f3136",
   "metadata": {},
   "source": [
    "#### 3.1.3. Feature scaling"
   ]
  },
  {
   "cell_type": "code",
   "execution_count": 17,
   "id": "435a1a89-7e8d-4ff3-a5ab-30c773a949f0",
   "metadata": {},
   "outputs": [
    {
     "data": {
      "text/html": [
       "<div>\n",
       "<style scoped>\n",
       "    .dataframe tbody tr th:only-of-type {\n",
       "        vertical-align: middle;\n",
       "    }\n",
       "\n",
       "    .dataframe tbody tr th {\n",
       "        vertical-align: top;\n",
       "    }\n",
       "\n",
       "    .dataframe thead th {\n",
       "        text-align: right;\n",
       "    }\n",
       "</style>\n",
       "<table border=\"1\" class=\"dataframe\">\n",
       "  <thead>\n",
       "    <tr style=\"text-align: right;\">\n",
       "      <th></th>\n",
       "      <th>user_id</th>\n",
       "      <th>aov</th>\n",
       "      <th>tov</th>\n",
       "      <th>count</th>\n",
       "      <th>age</th>\n",
       "      <th>gap</th>\n",
       "      <th>recency</th>\n",
       "      <th>average_gap</th>\n",
       "      <th>churned</th>\n",
       "    </tr>\n",
       "  </thead>\n",
       "  <tbody>\n",
       "    <tr>\n",
       "      <th>0</th>\n",
       "      <td>0001b82c569a333a80c48f2004827e4a8e5be5840fbd9b...</td>\n",
       "      <td>-1.324896</td>\n",
       "      <td>-0.751761</td>\n",
       "      <td>-0.725145</td>\n",
       "      <td>0.071682</td>\n",
       "      <td>-1.036844</td>\n",
       "      <td>1.411345</td>\n",
       "      <td>-0.731827</td>\n",
       "      <td>0</td>\n",
       "    </tr>\n",
       "    <tr>\n",
       "      <th>1</th>\n",
       "      <td>000700164cee77c05439c206a588b66fe734150ede585f...</td>\n",
       "      <td>-0.555836</td>\n",
       "      <td>1.211102</td>\n",
       "      <td>2.458196</td>\n",
       "      <td>0.923812</td>\n",
       "      <td>1.563061</td>\n",
       "      <td>-0.982436</td>\n",
       "      <td>-0.401234</td>\n",
       "      <td>1</td>\n",
       "    </tr>\n",
       "    <tr>\n",
       "      <th>2</th>\n",
       "      <td>001481e9e6ea150295c6e7664c9eb824dc2393ede3a88d...</td>\n",
       "      <td>0.293632</td>\n",
       "      <td>-0.645847</td>\n",
       "      <td>-0.725145</td>\n",
       "      <td>0.256928</td>\n",
       "      <td>-1.036844</td>\n",
       "      <td>1.610827</td>\n",
       "      <td>-0.731827</td>\n",
       "      <td>1</td>\n",
       "    </tr>\n",
       "  </tbody>\n",
       "</table>\n",
       "</div>"
      ],
      "text/plain": [
       "                                             user_id       aov       tov  \\\n",
       "0  0001b82c569a333a80c48f2004827e4a8e5be5840fbd9b... -1.324896 -0.751761   \n",
       "1  000700164cee77c05439c206a588b66fe734150ede585f... -0.555836  1.211102   \n",
       "2  001481e9e6ea150295c6e7664c9eb824dc2393ede3a88d...  0.293632 -0.645847   \n",
       "\n",
       "      count       age       gap   recency  average_gap  churned  \n",
       "0 -0.725145  0.071682 -1.036844  1.411345    -0.731827        0  \n",
       "1  2.458196  0.923812  1.563061 -0.982436    -0.401234        1  \n",
       "2 -0.725145  0.256928 -1.036844  1.610827    -0.731827        1  "
      ]
     },
     "execution_count": 17,
     "metadata": {},
     "output_type": "execute_result"
    }
   ],
   "source": [
    "from sklearn.preprocessing import MinMaxScaler, StandardScaler, RobustScaler, QuantileTransformer\n",
    "scaler = StandardScaler()\n",
    "df_filtered_scaled = df_filtered.copy(deep=True)\n",
    "df_filtered_scaled[['aov', 'tov', 'count', 'age', 'gap', 'recency', 'average_gap']] = scaler.fit_transform(df_filtered_scaled[['aov', 'tov', 'count', 'age', 'gap', 'recency', 'average_gap']])\n",
    "df_filtered_scaled.head(3)"
   ]
  },
  {
   "cell_type": "markdown",
   "id": "175fb4b8-f270-4fc1-983d-078da65edf62",
   "metadata": {},
   "source": [
    "#### 3.1.4. Split data into train and test"
   ]
  },
  {
   "cell_type": "code",
   "execution_count": 18,
   "id": "551ac0e0-3ba5-424d-98ed-f68a46e0e1fd",
   "metadata": {},
   "outputs": [
    {
     "name": "stdout",
     "output_type": "stream",
     "text": [
      "Total users(18796) = Test(15036) + Train (3760)\n"
     ]
    }
   ],
   "source": [
    "from sklearn.model_selection import GroupShuffleSplit \n",
    "\n",
    "splitter = GroupShuffleSplit(test_size=.20, n_splits=2, random_state = 7)\n",
    "split = splitter.split(df_filtered_scaled, groups=df_filtered_scaled['user_id'])\n",
    "train_inds, test_inds = next(split)\n",
    "\n",
    "train_df = df_filtered.iloc[train_inds]\n",
    "test_df = df_filtered.iloc[test_inds]\n",
    "\n",
    "train_df_scaled = df_filtered_scaled.iloc[train_inds]\n",
    "test_df_scaled = df_filtered_scaled.iloc[test_inds]\n",
    "\n",
    "print(\"Total users({}) = Test({}) + Train ({})\".format(df_filtered_scaled['user_id'].nunique(), train_df['user_id'].nunique(), test_df['user_id'].nunique()))"
   ]
  },
  {
   "cell_type": "markdown",
   "id": "5a1faae6-be5b-49e7-9575-1b79aac7c0a7",
   "metadata": {},
   "source": [
    "#### 3.1.5. Model training and evaluation"
   ]
  },
  {
   "cell_type": "code",
   "execution_count": 19,
   "id": "14f08893-8308-40db-b492-552b93d9d925",
   "metadata": {},
   "outputs": [],
   "source": [
    "X_train = train_df_scaled[['aov', 'tov', 'count', 'age', 'gap', 'average_gap']]\n",
    "Y_train = train_df_scaled['churned']\n",
    "\n",
    "X_test = test_df_scaled[['aov', 'tov', 'count', 'age', 'gap', 'average_gap']]\n",
    "Y_test = test_df_scaled['churned']"
   ]
  },
  {
   "cell_type": "code",
   "execution_count": 44,
   "id": "c05cf432-938c-4e30-a911-12c7940d2c87",
   "metadata": {},
   "outputs": [],
   "source": [
    "from sklearn.ensemble import RandomForestClassifier\n",
    "from sklearn.linear_model import LogisticRegression\n",
    "\n",
    "from sklearn.metrics import classification_report, roc_auc_score, accuracy_score, confusion_matrix"
   ]
  },
  {
   "cell_type": "code",
   "execution_count": 22,
   "id": "1c4b266c-55b4-4272-8730-f80566257dcb",
   "metadata": {},
   "outputs": [
    {
     "name": "stdout",
     "output_type": "stream",
     "text": [
      "Accuracy of RF model: 0.72\n",
      "Classification report: \n",
      "              precision    recall  f1-score   support\n",
      "\n",
      "           0       0.71      0.72      0.71      1786\n",
      "           1       0.74      0.73      0.73      1974\n",
      "\n",
      "    accuracy                           0.73      3760\n",
      "   macro avg       0.72      0.72      0.72      3760\n",
      "weighted avg       0.73      0.72      0.73      3760\n",
      "\n",
      "ROC-AOC score: 0.7950536424810327\n"
     ]
    }
   ],
   "source": [
    "rf_clf = RandomForestClassifier()\n",
    "rf_clf.fit(X_train, Y_train)\n",
    "\n",
    "accuracy = rf_clf.score(X_test, Y_test)\n",
    "print(\"Accuracy of RF model: {}\".format(round(accuracy, 2)))\n",
    "\n",
    "print(\"Classification report: \")\n",
    "print(classification_report(Y_test, rf_clf.predict(X_test)))\n",
    "\n",
    "print(\"ROC-AOC score: {}\".format(roc_auc_score(Y_test, rf_clf.predict_proba(X_test)[:,1]) ))"
   ]
  },
  {
   "cell_type": "code",
   "execution_count": null,
   "id": "40ea4b46-d50c-453d-a5c0-500849029996",
   "metadata": {},
   "outputs": [],
   "source": [
    "# Feature importance\n",
    "pd.DataFrame((zip(list(rf_clf.feature_names_in_), rf_clf.feature_importances_)), columns=['feature', 'importance']).plot.bar(x='feature', y='importance');"
   ]
  },
  {
   "cell_type": "code",
   "execution_count": 23,
   "id": "06dc8a1e-cfd8-4455-9dc1-41b1ebe42a81",
   "metadata": {},
   "outputs": [
    {
     "name": "stdout",
     "output_type": "stream",
     "text": [
      "Accuracy of LR model: 0.74\n",
      "Classification report: \n",
      "              precision    recall  f1-score   support\n",
      "\n",
      "           0       0.71      0.77      0.74      1786\n",
      "           1       0.78      0.72      0.75      1974\n",
      "\n",
      "    accuracy                           0.74      3760\n",
      "   macro avg       0.74      0.74      0.74      3760\n",
      "weighted avg       0.75      0.74      0.74      3760\n",
      "\n",
      "ROC-AOC score: 0.8124690120502706\n"
     ]
    }
   ],
   "source": [
    "lr_clf = LogisticRegression()\n",
    "lr_clf.fit(X_train, Y_train)\n",
    "\n",
    "accuracy = lr_clf.score(X_test, Y_test)\n",
    "print(\"Accuracy of LR model: {}\".format(round(accuracy, 2)))\n",
    "\n",
    "print(\"Classification report: \")\n",
    "print(classification_report(Y_test, lr_clf.predict(X_test)))\n",
    "\n",
    "print(\"ROC-AOC score: {}\".format(roc_auc_score(Y_test, lr_clf.predict_proba(X_test)[:,1]) ))"
   ]
  },
  {
   "cell_type": "code",
   "execution_count": 24,
   "id": "51e4fa11-7112-4b7d-9347-7d64c05c51d9",
   "metadata": {},
   "outputs": [
    {
     "data": {
      "image/png": "[encoded data removed]",
      "text/plain": [
       "<Figure size 432x288 with 1 Axes>"
      ]
     },
     "metadata": {
      "needs_background": "light"
     },
     "output_type": "display_data"
    }
   ],
   "source": [
    "# Feature importance\n",
    "pd.DataFrame((zip(list(lr_clf.feature_names_in_), abs(lr_clf.coef_[0]))), columns=['feature', 'importance']).plot.bar(x='feature', y='importance');"
   ]
  },
  {
   "cell_type": "code",
   "execution_count": 25,
   "id": "2e2c1b10-0ddb-4d49-8e2a-38278f03dc3a",
   "metadata": {},
   "outputs": [],
   "source": [
    "# Clearly we can see that Logistic regression performs better than Random forest model\n",
    "# Also we can reduce model complexity by eliminately some features which does not contribute much in the prediction\n",
    "# For this we can either use stepeise regression or use recursive feature elimination\n",
    "\n",
    "# I am skipping the feature elimination and tryinh out with outer ML models for the purposes of this assignment"
   ]
  },
  {
   "cell_type": "markdown",
   "id": "8e6db81e-55b7-45ec-8a13-6b43624e8da6",
   "metadata": {},
   "source": [
    "#### 3.1.6. Finding the users which are more likely to churn out"
   ]
  },
  {
   "cell_type": "code",
   "execution_count": 26,
   "id": "cbad1b95-58df-4b2d-9e5c-3ab211f360ed",
   "metadata": {},
   "outputs": [],
   "source": [
    "# First lets evaluate our strategy\n",
    "# We take the predictions which have more than 95% predicted probability of user churning out\n",
    "# Then we calculate the accuracy of such predictions\n",
    "\n",
    "# Further once we have an accuracy measure we train the model using the complete data and find the most probable users churning out of the system\n",
    "# Note the cut_off probability (which is 95% in this example) can be changed depending on the use case"
   ]
  },
  {
   "cell_type": "code",
   "execution_count": 28,
   "id": "ebf95c40-2393-452b-9185-8f7445dcff86",
   "metadata": {},
   "outputs": [
    {
     "data": {
      "text/html": [
       "<div>\n",
       "<style scoped>\n",
       "    .dataframe tbody tr th:only-of-type {\n",
       "        vertical-align: middle;\n",
       "    }\n",
       "\n",
       "    .dataframe tbody tr th {\n",
       "        vertical-align: top;\n",
       "    }\n",
       "\n",
       "    .dataframe thead th {\n",
       "        text-align: right;\n",
       "    }\n",
       "</style>\n",
       "<table border=\"1\" class=\"dataframe\">\n",
       "  <thead>\n",
       "    <tr style=\"text-align: right;\">\n",
       "      <th></th>\n",
       "      <th>user_id</th>\n",
       "      <th>prob</th>\n",
       "      <th>pred_label</th>\n",
       "      <th>act_label</th>\n",
       "    </tr>\n",
       "  </thead>\n",
       "  <tbody>\n",
       "    <tr>\n",
       "      <th>0</th>\n",
       "      <td>001481e9e6ea150295c6e7664c9eb824dc2393ede3a88d...</td>\n",
       "      <td>0.150148</td>\n",
       "      <td>0</td>\n",
       "      <td>1</td>\n",
       "    </tr>\n",
       "    <tr>\n",
       "      <th>1</th>\n",
       "      <td>002b3a54d2a9802624be8ff00d98f1194f07f87cac372f...</td>\n",
       "      <td>0.293862</td>\n",
       "      <td>0</td>\n",
       "      <td>0</td>\n",
       "    </tr>\n",
       "    <tr>\n",
       "      <th>2</th>\n",
       "      <td>002fbb69d2d89328a4a32bac2763967c8b60b127a0aefb...</td>\n",
       "      <td>0.279667</td>\n",
       "      <td>0</td>\n",
       "      <td>0</td>\n",
       "    </tr>\n",
       "  </tbody>\n",
       "</table>\n",
       "</div>"
      ],
      "text/plain": [
       "                                             user_id      prob  pred_label  \\\n",
       "0  001481e9e6ea150295c6e7664c9eb824dc2393ede3a88d...  0.150148           0   \n",
       "1  002b3a54d2a9802624be8ff00d98f1194f07f87cac372f...  0.293862           0   \n",
       "2  002fbb69d2d89328a4a32bac2763967c8b60b127a0aefb...  0.279667           0   \n",
       "\n",
       "   act_label  \n",
       "0          1  \n",
       "1          0  \n",
       "2          0  "
      ]
     },
     "execution_count": 28,
     "metadata": {},
     "output_type": "execute_result"
    }
   ],
   "source": [
    "most_probable_test_users_churn_df = pd.DataFrame(zip(test_df_scaled['user_id'], lr_clf.predict_proba(X_test)[:,1], lr_clf.predict(X_test), Y_test), columns=['user_id', 'prob', 'pred_label', 'act_label'])\n",
    "most_probable_test_users_churn_df.head(3)"
   ]
  },
  {
   "cell_type": "code",
   "execution_count": 29,
   "id": "ed595ad1-c0c0-473f-bb08-5448c26396db",
   "metadata": {},
   "outputs": [
    {
     "name": "stdout",
     "output_type": "stream",
     "text": [
      "Accuracy: 0.9705882352941176\n",
      "Number of users: 170\n"
     ]
    }
   ],
   "source": [
    "df = most_probable_test_users_churn_df[most_probable_test_users_churn_df['prob']>=0.95]\n",
    "accuracy = accuracy_score(df['act_label'], df['pred_label'])\n",
    "\n",
    "print(\"Accuracy: {}\".format(accuracy))\n",
    "print(\"Number of users: {}\".format(df['user_id'].nunique()))"
   ]
  },
  {
   "cell_type": "code",
   "execution_count": 47,
   "id": "9ac3bdb2-e46a-4a6a-83eb-0f63fdbac868",
   "metadata": {},
   "outputs": [
    {
     "data": {
      "text/plain": [
       "array([[  0,   5],\n",
       "       [  0, 165]])"
      ]
     },
     "execution_count": 47,
     "metadata": {},
     "output_type": "execute_result"
    }
   ],
   "source": [
    "confusion_matrix(df['act_label'], df['pred_label'])"
   ]
  },
  {
   "cell_type": "code",
   "execution_count": 48,
   "id": "dc907cfa-b9dc-41d4-94c7-5d162ba513f1",
   "metadata": {},
   "outputs": [],
   "source": [
    "# Now we know that with this strateghy we are 97% confident that the user_id's that we arrive at using this \n",
    "# method will actually churn out.\n",
    "\n",
    "# Lets now train the LR model with complete dataset and find the most probable users who will churn out from the system"
   ]
  },
  {
   "cell_type": "code",
   "execution_count": 50,
   "id": "fad21b07-bdc3-44a2-b091-2d4d478c876d",
   "metadata": {
    "tags": []
   },
   "outputs": [],
   "source": [
    "X = df_filtered[['aov', 'tov', 'count', 'age', 'gap', 'average_gap']]\n",
    "Y = df_filtered['churned']"
   ]
  },
  {
   "cell_type": "code",
   "execution_count": 51,
   "id": "d6a9d6ca-7868-4ce7-8e9d-eacf4757bfa8",
   "metadata": {},
   "outputs": [],
   "source": [
    "lr_clf = LogisticRegression(max_iter=300)\n",
    "lr_clf.fit(X, Y);"
   ]
  },
  {
   "cell_type": "code",
   "execution_count": 53,
   "id": "265b8ce2-60b4-403e-82e2-7bb914662ae4",
   "metadata": {},
   "outputs": [
    {
     "data": {
      "text/html": [
       "<div>\n",
       "<style scoped>\n",
       "    .dataframe tbody tr th:only-of-type {\n",
       "        vertical-align: middle;\n",
       "    }\n",
       "\n",
       "    .dataframe tbody tr th {\n",
       "        vertical-align: top;\n",
       "    }\n",
       "\n",
       "    .dataframe thead th {\n",
       "        text-align: right;\n",
       "    }\n",
       "</style>\n",
       "<table border=\"1\" class=\"dataframe\">\n",
       "  <thead>\n",
       "    <tr style=\"text-align: right;\">\n",
       "      <th></th>\n",
       "      <th>user_id</th>\n",
       "      <th>prob</th>\n",
       "      <th>pred_label</th>\n",
       "    </tr>\n",
       "  </thead>\n",
       "  <tbody>\n",
       "    <tr>\n",
       "      <th>0</th>\n",
       "      <td>0001b82c569a333a80c48f2004827e4a8e5be5840fbd9b...</td>\n",
       "      <td>0.142944</td>\n",
       "      <td>0</td>\n",
       "    </tr>\n",
       "    <tr>\n",
       "      <th>1</th>\n",
       "      <td>000700164cee77c05439c206a588b66fe734150ede585f...</td>\n",
       "      <td>0.961313</td>\n",
       "      <td>1</td>\n",
       "    </tr>\n",
       "    <tr>\n",
       "      <th>2</th>\n",
       "      <td>001481e9e6ea150295c6e7664c9eb824dc2393ede3a88d...</td>\n",
       "      <td>0.154536</td>\n",
       "      <td>0</td>\n",
       "    </tr>\n",
       "  </tbody>\n",
       "</table>\n",
       "</div>"
      ],
      "text/plain": [
       "                                             user_id      prob  pred_label\n",
       "0  0001b82c569a333a80c48f2004827e4a8e5be5840fbd9b...  0.142944           0\n",
       "1  000700164cee77c05439c206a588b66fe734150ede585f...  0.961313           1\n",
       "2  001481e9e6ea150295c6e7664c9eb824dc2393ede3a88d...  0.154536           0"
      ]
     },
     "execution_count": 53,
     "metadata": {},
     "output_type": "execute_result"
    }
   ],
   "source": [
    "most_probable_users_churn_df = pd.DataFrame(zip(df_filtered['user_id'], lr_clf.predict_proba(X)[:,1], lr_clf.predict(X)), columns=['user_id', 'prob', 'pred_label'])\n",
    "most_probable_users_churn_df.head(3)"
   ]
  },
  {
   "cell_type": "code",
   "execution_count": 54,
   "id": "bb376f4e-7e57-4b05-9e21-01c3e9239b74",
   "metadata": {
    "tags": []
   },
   "outputs": [
    {
     "name": "stdout",
     "output_type": "stream",
     "text": [
      "Number of users: 910\n"
     ]
    }
   ],
   "source": [
    "df = most_probable_users_churn_df[most_probable_users_churn_df['prob']>=0.95]\n",
    "print(\"Number of users: {}\".format(df.shape[0]))\n",
    "\n",
    "l1 = list(most_probable_users_churn_df[most_probable_users_churn_df['prob']>=0.95]['user_id'])\n",
    "# print(\"user_id who are most probable to churn out: {}\".format(l1))"
   ]
  },
  {
   "cell_type": "code",
   "execution_count": null,
   "id": "6a4c1bfb-1236-4cd0-b342-da7a4292a430",
   "metadata": {},
   "outputs": [],
   "source": [
    "# l1 -> contains the list of user_ids who are most likey to churn"
   ]
  }
 ],
 "metadata": {
  "kernelspec": {
   "display_name": "Python 3 (ipykernel)",
   "language": "python",
   "name": "python3"
  },
  "language_info": {
   "codemirror_mode": {
    "name": "ipython",
    "version": 3
   },
   "file_extension": ".py",
   "mimetype": "text/x-python",
   "name": "python",
   "nbconvert_exporter": "python",
   "pygments_lexer": "ipython3",
   "version": "3.9.12"
  }
 },
 "nbformat": 4,
 "nbformat_minor": 5
}
