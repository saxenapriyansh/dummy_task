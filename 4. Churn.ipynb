{
 "cells": [
  {
   "cell_type": "markdown",
   "id": "f6715334-493e-4a6f-88c4-39c25d9b6abe",
   "metadata": {},
   "source": [
    "# Problem statement: Predict the customers that most likely to churn out of the platform"
   ]
  },
  {
   "cell_type": "markdown",
   "id": "5f4394aa-6809-44c8-866f-741a5952d8f6",
   "metadata": {},
   "source": [
    "## 1. Imports"
   ]
  },
  {
   "cell_type": "code",
   "execution_count": 1,
   "id": "d4a3cc19-4dd5-4a0e-a9b5-6b72666cec34",
   "metadata": {},
   "outputs": [],
   "source": [
    "import pandas as pd\n",
    "import numpy as np\n",
    "from datetime import datetime, timedelta"
   ]
  },
  {
   "cell_type": "markdown",
   "id": "ede9e427-c439-4734-81e6-93a4c04d0d47",
   "metadata": {},
   "source": [
    "## 2. Read the dataset"
   ]
  },
  {
   "cell_type": "code",
   "execution_count": 33,
   "id": "60cc7156-3f5a-4a47-9f1e-c897dd55196c",
   "metadata": {},
   "outputs": [],
   "source": [
    "purchase_history = pd.read_csv('dataset.csv')\n",
    "purchase_history['timestamp'] = purchase_history['timestamp'].apply(lambda x: datetime.strptime(x, '%Y-%m-%d %H:%M:%S.%f') + timedelta(hours=5, minutes=30))"
   ]
  },
  {
   "cell_type": "markdown",
   "id": "5f236358-320d-4fee-8720-4540d411bdca",
   "metadata": {},
   "source": [
    "## 3. Define churn"
   ]
  },
  {
   "cell_type": "markdown",
   "id": "bc508a58-1f33-4898-91e3-67f74e1dfaa2",
   "metadata": {},
   "source": [
    "> There are multiple ways of defining churn. In the present use case we consider the following:\n",
    "> 1. Predictive modelling\n",
    "> 2. Historical method "
   ]
  },
  {
   "cell_type": "markdown",
   "id": "3d4b4f20-f707-4fd9-aac5-9d3da3b270c5",
   "metadata": {},
   "source": [
    "### 3.1. Predictive modelling"
   ]
  },
  {
   "cell_type": "code",
   "execution_count": 26,
   "id": "d86aca73-3f56-459a-a131-8913c2635a35",
   "metadata": {},
   "outputs": [],
   "source": [
    "# For predicting the churn, lets first define churn\n",
    "# Since from the EDA and the cohorting logic we saw that for most use cases, a window of 1 month is fine,\n",
    "# therefore we consider that if a user has not made a purchase in the last 1 month, then we consider it as churn"
   ]
  },
  {
   "cell_type": "code",
   "execution_count": 34,
   "id": "c88617dc-05cf-4b6c-b4d4-442ba141c122",
   "metadata": {},
   "outputs": [],
   "source": [
    "purchase_history[\"date\"] = purchase_history[\"timestamp\"].apply(lambda x: x.date())"
   ]
  },
  {
   "cell_type": "code",
   "execution_count": 49,
   "id": "9596e2c5-9a06-428b-98ec-4c3dd415eda0",
   "metadata": {},
   "outputs": [
    {
     "name": "stdout",
     "output_type": "stream",
     "text": [
      "Cutoff date: 2022-11-14\n"
     ]
    }
   ],
   "source": [
    "cut_off_date = (purchase_history['date'].max() - timedelta(days=30))\n",
    "print(\"Cutoff date: {}\".format(cut_off_date))"
   ]
  },
  {
   "cell_type": "code",
   "execution_count": 45,
   "id": "660d394e-dc53-440c-9ab9-803c142bc3ca",
   "metadata": {},
   "outputs": [],
   "source": [
    "# Create a new column \"churned\" which is 1 if the customer has not made a purchase in the last 1 month (30 days)\n",
    "purchase_history[\"churned\"] = (purchase_history.groupby(\"user_id\")[\"date\"].transform(\"max\") >= cut_off_date).astype(int)"
   ]
  },
  {
   "cell_type": "markdown",
   "id": "6fd1f904-7ef3-42d1-979f-7bac069f6697",
   "metadata": {},
   "source": [
    "#### 3.1.1. Prepare features"
   ]
  },
  {
   "cell_type": "code",
   "execution_count": null,
   "id": "49b31567-66c3-4b5c-8413-8033833f2707",
   "metadata": {},
   "outputs": [],
   "source": [
    "# Seggregate some users for validation"
   ]
  },
  {
   "cell_type": "code",
   "execution_count": 171,
   "id": "d87999bb-c21e-4925-bfe8-87732dfc01ef",
   "metadata": {},
   "outputs": [],
   "source": [
    "data_df = purchase_history[purchase_history['timestamp'].apply(lambda x: (x.date()<=cut_off_date))]"
   ]
  },
  {
   "cell_type": "code",
   "execution_count": 172,
   "id": "2d5ab092-5ed8-4a23-a136-d89017dcc042",
   "metadata": {},
   "outputs": [
    {
     "data": {
      "text/html": [
       "<div>\n",
       "<style scoped>\n",
       "    .dataframe tbody tr th:only-of-type {\n",
       "        vertical-align: middle;\n",
       "    }\n",
       "\n",
       "    .dataframe tbody tr th {\n",
       "        vertical-align: top;\n",
       "    }\n",
       "\n",
       "    .dataframe thead th {\n",
       "        text-align: right;\n",
       "    }\n",
       "</style>\n",
       "<table border=\"1\" class=\"dataframe\">\n",
       "  <thead>\n",
       "    <tr style=\"text-align: right;\">\n",
       "      <th></th>\n",
       "      <th>user_id</th>\n",
       "      <th>aov</th>\n",
       "      <th>tov</th>\n",
       "      <th>count</th>\n",
       "    </tr>\n",
       "  </thead>\n",
       "  <tbody>\n",
       "    <tr>\n",
       "      <th>0</th>\n",
       "      <td>0001b82c569a333a80c48f2004827e4a8e5be5840fbd9b...</td>\n",
       "      <td>113.000000</td>\n",
       "      <td>113.0</td>\n",
       "      <td>1</td>\n",
       "    </tr>\n",
       "    <tr>\n",
       "      <th>1</th>\n",
       "      <td>000700164cee77c05439c206a588b66fe734150ede585f...</td>\n",
       "      <td>214.684211</td>\n",
       "      <td>4079.0</td>\n",
       "      <td>19</td>\n",
       "    </tr>\n",
       "    <tr>\n",
       "      <th>2</th>\n",
       "      <td>001481e9e6ea150295c6e7664c9eb824dc2393ede3a88d...</td>\n",
       "      <td>327.000000</td>\n",
       "      <td>327.0</td>\n",
       "      <td>1</td>\n",
       "    </tr>\n",
       "  </tbody>\n",
       "</table>\n",
       "</div>"
      ],
      "text/plain": [
       "                                             user_id         aov     tov  \\\n",
       "0  0001b82c569a333a80c48f2004827e4a8e5be5840fbd9b...  113.000000   113.0   \n",
       "1  000700164cee77c05439c206a588b66fe734150ede585f...  214.684211  4079.0   \n",
       "2  001481e9e6ea150295c6e7664c9eb824dc2393ede3a88d...  327.000000   327.0   \n",
       "\n",
       "   count  \n",
       "0      1  \n",
       "1     19  \n",
       "2      1  "
      ]
     },
     "execution_count": 172,
     "metadata": {},
     "output_type": "execute_result"
    }
   ],
   "source": [
    "# Average order value, Total order value, Total number of orders\n",
    "feature_set1 = data_df.groupby('user_id').agg({'purchase_value': ['mean', 'sum', 'count']}).reset_index(col_level=1)\n",
    "feature_set1.columns = ['user_id', 'aov', 'tov', 'count']\n",
    "feature_set1.head(3)"
   ]
  },
  {
   "cell_type": "code",
   "execution_count": 173,
   "id": "3e415ff4-ddb6-4a6b-ad75-9a088acc5571",
   "metadata": {},
   "outputs": [],
   "source": [
    "# Age of the user\n",
    "def diff_in_days(group):\n",
    "    return (cut_off_date - group.min().date()).days\n",
    "\n",
    "differences = data_df.groupby('user_id')['timestamp'].apply(diff_in_days)\n",
    "feature_set2 = differences.to_frame().reset_index()\n",
    "feature_set2.columns = ['user_id', 'age']"
   ]
  },
  {
   "cell_type": "code",
   "execution_count": 174,
   "id": "e74cecbf-ee67-47fd-959a-647f59afb11f",
   "metadata": {},
   "outputs": [],
   "source": [
    "# Difference in days between first and the last purchase\n",
    "def diff_in_days(group):\n",
    "    return (group.max() - group.min()).days\n",
    "\n",
    "differences = data_df.groupby('user_id')['timestamp'].apply(diff_in_days)\n",
    "feature_set3 = differences.to_frame().reset_index()\n",
    "feature_set3.columns = ['user_id', 'gap']"
   ]
  },
  {
   "cell_type": "code",
   "execution_count": 177,
   "id": "928250df-498b-48f0-86dd-74d6fb2c0058",
   "metadata": {},
   "outputs": [],
   "source": [
    "# Recency\n",
    "def diff_in_days(group):\n",
    "    return (cut_off_date - group.max().date()).days\n",
    "\n",
    "differences = data_df.groupby('user_id')['timestamp'].apply(diff_in_days)\n",
    "feature_set4 = differences.to_frame().reset_index()\n",
    "feature_set4.columns = ['user_id', 'recency']"
   ]
  },
  {
   "cell_type": "code",
   "execution_count": 178,
   "id": "152ff069-5475-4938-a1c7-ca25803ca128",
   "metadata": {},
   "outputs": [],
   "source": [
    "# Mean gap between orders\n",
    "feature_set5 = data_df.groupby('user_id')[\"timestamp\"].apply(lambda x: x.sort_values(ascending=True).diff().mean().days).to_frame().reset_index(col_level=1)\n",
    "feature_set5.columns = ['user_id', 'average_gap']\n",
    "\n",
    "feature_set5 = feature_set5.fillna(value={\"average_gap\":0})\n",
    "feature_set5['average_gap'] = feature_set5['average_gap'].astype('int')"
   ]
  },
  {
   "cell_type": "code",
   "execution_count": 179,
   "id": "158533bf-351d-48be-97d8-f4a931d79165",
   "metadata": {},
   "outputs": [
    {
     "data": {
      "text/html": [
       "<div>\n",
       "<style scoped>\n",
       "    .dataframe tbody tr th:only-of-type {\n",
       "        vertical-align: middle;\n",
       "    }\n",
       "\n",
       "    .dataframe tbody tr th {\n",
       "        vertical-align: top;\n",
       "    }\n",
       "\n",
       "    .dataframe thead th {\n",
       "        text-align: right;\n",
       "    }\n",
       "</style>\n",
       "<table border=\"1\" class=\"dataframe\">\n",
       "  <thead>\n",
       "    <tr style=\"text-align: right;\">\n",
       "      <th></th>\n",
       "      <th>user_id</th>\n",
       "      <th>aov</th>\n",
       "      <th>tov</th>\n",
       "      <th>count</th>\n",
       "      <th>age</th>\n",
       "      <th>gap</th>\n",
       "      <th>recency</th>\n",
       "      <th>average_gap</th>\n",
       "      <th>churned</th>\n",
       "    </tr>\n",
       "  </thead>\n",
       "  <tbody>\n",
       "    <tr>\n",
       "      <th>0</th>\n",
       "      <td>0001b82c569a333a80c48f2004827e4a8e5be5840fbd9b...</td>\n",
       "      <td>113.000000</td>\n",
       "      <td>113.0</td>\n",
       "      <td>1</td>\n",
       "      <td>61</td>\n",
       "      <td>0</td>\n",
       "      <td>61</td>\n",
       "      <td>0</td>\n",
       "      <td>0</td>\n",
       "    </tr>\n",
       "    <tr>\n",
       "      <th>1</th>\n",
       "      <td>000700164cee77c05439c206a588b66fe734150ede585f...</td>\n",
       "      <td>214.684211</td>\n",
       "      <td>4079.0</td>\n",
       "      <td>19</td>\n",
       "      <td>84</td>\n",
       "      <td>83</td>\n",
       "      <td>1</td>\n",
       "      <td>4</td>\n",
       "      <td>1</td>\n",
       "    </tr>\n",
       "    <tr>\n",
       "      <th>2</th>\n",
       "      <td>001481e9e6ea150295c6e7664c9eb824dc2393ede3a88d...</td>\n",
       "      <td>327.000000</td>\n",
       "      <td>327.0</td>\n",
       "      <td>1</td>\n",
       "      <td>66</td>\n",
       "      <td>0</td>\n",
       "      <td>66</td>\n",
       "      <td>0</td>\n",
       "      <td>1</td>\n",
       "    </tr>\n",
       "  </tbody>\n",
       "</table>\n",
       "</div>"
      ],
      "text/plain": [
       "                                             user_id         aov     tov  \\\n",
       "0  0001b82c569a333a80c48f2004827e4a8e5be5840fbd9b...  113.000000   113.0   \n",
       "1  000700164cee77c05439c206a588b66fe734150ede585f...  214.684211  4079.0   \n",
       "2  001481e9e6ea150295c6e7664c9eb824dc2393ede3a88d...  327.000000   327.0   \n",
       "\n",
       "   count  age  gap  recency  average_gap  churned  \n",
       "0      1   61    0       61            0        0  \n",
       "1     19   84   83        1            4        1  \n",
       "2      1   66    0       66            0        1  "
      ]
     },
     "execution_count": 179,
     "metadata": {},
     "output_type": "execute_result"
    }
   ],
   "source": [
    "df = feature_set1.merge(feature_set2, on='user_id',how='left').merge(feature_set3, on='user_id',how='left').merge(feature_set4, on='user_id',how='left').merge(feature_set5, on='user_id',how='left')\n",
    "df = df.merge(data_df[['user_id', 'churned']].drop_duplicates(), on='user_id',how='left')  \n",
    "df.head(3)"
   ]
  },
  {
   "cell_type": "code",
   "execution_count": 180,
   "id": "73a90145-4605-4d17-bd2c-23b74592e402",
   "metadata": {},
   "outputs": [
    {
     "data": {
      "text/plain": [
       "1    0.541313\n",
       "0    0.458687\n",
       "Name: churned, dtype: float64"
      ]
     },
     "execution_count": 180,
     "metadata": {},
     "output_type": "execute_result"
    }
   ],
   "source": [
    "df['churned'].value_counts(normalize=True)"
   ]
  },
  {
   "cell_type": "markdown",
   "id": "d098e2b3-ed13-4ce4-a1af-6f910e40ec9a",
   "metadata": {},
   "source": [
    "#### 3.1.2. Remove outliers"
   ]
  },
  {
   "cell_type": "code",
   "execution_count": 181,
   "id": "c8e4b623-2a11-4825-9205-4e9f9339a0ff",
   "metadata": {},
   "outputs": [
    {
     "data": {
      "text/html": [
       "<div>\n",
       "<style scoped>\n",
       "    .dataframe tbody tr th:only-of-type {\n",
       "        vertical-align: middle;\n",
       "    }\n",
       "\n",
       "    .dataframe tbody tr th {\n",
       "        vertical-align: top;\n",
       "    }\n",
       "\n",
       "    .dataframe thead th {\n",
       "        text-align: right;\n",
       "    }\n",
       "</style>\n",
       "<table border=\"1\" class=\"dataframe\">\n",
       "  <thead>\n",
       "    <tr style=\"text-align: right;\">\n",
       "      <th></th>\n",
       "      <th>user_id</th>\n",
       "      <th>aov</th>\n",
       "      <th>tov</th>\n",
       "      <th>count</th>\n",
       "      <th>age</th>\n",
       "      <th>gap</th>\n",
       "      <th>recency</th>\n",
       "      <th>average_gap</th>\n",
       "      <th>churned</th>\n",
       "    </tr>\n",
       "  </thead>\n",
       "  <tbody>\n",
       "    <tr>\n",
       "      <th>0</th>\n",
       "      <td>0001b82c569a333a80c48f2004827e4a8e5be5840fbd9b...</td>\n",
       "      <td>113.000000</td>\n",
       "      <td>113.0</td>\n",
       "      <td>1</td>\n",
       "      <td>61</td>\n",
       "      <td>0</td>\n",
       "      <td>61</td>\n",
       "      <td>0</td>\n",
       "      <td>0</td>\n",
       "    </tr>\n",
       "    <tr>\n",
       "      <th>1</th>\n",
       "      <td>000700164cee77c05439c206a588b66fe734150ede585f...</td>\n",
       "      <td>214.684211</td>\n",
       "      <td>4079.0</td>\n",
       "      <td>19</td>\n",
       "      <td>84</td>\n",
       "      <td>83</td>\n",
       "      <td>1</td>\n",
       "      <td>4</td>\n",
       "      <td>1</td>\n",
       "    </tr>\n",
       "    <tr>\n",
       "      <th>2</th>\n",
       "      <td>001481e9e6ea150295c6e7664c9eb824dc2393ede3a88d...</td>\n",
       "      <td>327.000000</td>\n",
       "      <td>327.0</td>\n",
       "      <td>1</td>\n",
       "      <td>66</td>\n",
       "      <td>0</td>\n",
       "      <td>66</td>\n",
       "      <td>0</td>\n",
       "      <td>1</td>\n",
       "    </tr>\n",
       "  </tbody>\n",
       "</table>\n",
       "</div>"
      ],
      "text/plain": [
       "                                             user_id         aov     tov  \\\n",
       "0  0001b82c569a333a80c48f2004827e4a8e5be5840fbd9b...  113.000000   113.0   \n",
       "1  000700164cee77c05439c206a588b66fe734150ede585f...  214.684211  4079.0   \n",
       "2  001481e9e6ea150295c6e7664c9eb824dc2393ede3a88d...  327.000000   327.0   \n",
       "\n",
       "   count  age  gap  recency  average_gap  churned  \n",
       "0      1   61    0       61            0        0  \n",
       "1     19   84   83        1            4        1  \n",
       "2      1   66    0       66            0        1  "
      ]
     },
     "execution_count": 181,
     "metadata": {},
     "output_type": "execute_result"
    }
   ],
   "source": [
    "df_filtered = df[df['aov']<df['aov'].quantile(0.95)]\n",
    "df_filtered = df_filtered[df_filtered['tov']<df_filtered['tov'].quantile(0.95)]\n",
    "df_filtered.head(3)"
   ]
  },
  {
   "cell_type": "markdown",
   "id": "1691732d-d68d-4874-bf10-e6d7340f3136",
   "metadata": {},
   "source": [
    "#### 3.1.3. Feature scaling"
   ]
  },
  {
   "cell_type": "code",
   "execution_count": 182,
   "id": "435a1a89-7e8d-4ff3-a5ab-30c773a949f0",
   "metadata": {},
   "outputs": [
    {
     "data": {
      "text/html": [
       "<div>\n",
       "<style scoped>\n",
       "    .dataframe tbody tr th:only-of-type {\n",
       "        vertical-align: middle;\n",
       "    }\n",
       "\n",
       "    .dataframe tbody tr th {\n",
       "        vertical-align: top;\n",
       "    }\n",
       "\n",
       "    .dataframe thead th {\n",
       "        text-align: right;\n",
       "    }\n",
       "</style>\n",
       "<table border=\"1\" class=\"dataframe\">\n",
       "  <thead>\n",
       "    <tr style=\"text-align: right;\">\n",
       "      <th></th>\n",
       "      <th>user_id</th>\n",
       "      <th>aov</th>\n",
       "      <th>tov</th>\n",
       "      <th>count</th>\n",
       "      <th>age</th>\n",
       "      <th>gap</th>\n",
       "      <th>recency</th>\n",
       "      <th>average_gap</th>\n",
       "      <th>churned</th>\n",
       "    </tr>\n",
       "  </thead>\n",
       "  <tbody>\n",
       "    <tr>\n",
       "      <th>0</th>\n",
       "      <td>0001b82c569a333a80c48f2004827e4a8e5be5840fbd9b...</td>\n",
       "      <td>-1.324896</td>\n",
       "      <td>-0.751761</td>\n",
       "      <td>-0.725145</td>\n",
       "      <td>0.071682</td>\n",
       "      <td>-1.036844</td>\n",
       "      <td>1.411345</td>\n",
       "      <td>-0.731827</td>\n",
       "      <td>0</td>\n",
       "    </tr>\n",
       "    <tr>\n",
       "      <th>1</th>\n",
       "      <td>000700164cee77c05439c206a588b66fe734150ede585f...</td>\n",
       "      <td>-0.555836</td>\n",
       "      <td>1.211102</td>\n",
       "      <td>2.458196</td>\n",
       "      <td>0.923812</td>\n",
       "      <td>1.563061</td>\n",
       "      <td>-0.982436</td>\n",
       "      <td>-0.401234</td>\n",
       "      <td>1</td>\n",
       "    </tr>\n",
       "    <tr>\n",
       "      <th>2</th>\n",
       "      <td>001481e9e6ea150295c6e7664c9eb824dc2393ede3a88d...</td>\n",
       "      <td>0.293632</td>\n",
       "      <td>-0.645847</td>\n",
       "      <td>-0.725145</td>\n",
       "      <td>0.256928</td>\n",
       "      <td>-1.036844</td>\n",
       "      <td>1.610827</td>\n",
       "      <td>-0.731827</td>\n",
       "      <td>1</td>\n",
       "    </tr>\n",
       "  </tbody>\n",
       "</table>\n",
       "</div>"
      ],
      "text/plain": [
       "                                             user_id       aov       tov  \\\n",
       "0  0001b82c569a333a80c48f2004827e4a8e5be5840fbd9b... -1.324896 -0.751761   \n",
       "1  000700164cee77c05439c206a588b66fe734150ede585f... -0.555836  1.211102   \n",
       "2  001481e9e6ea150295c6e7664c9eb824dc2393ede3a88d...  0.293632 -0.645847   \n",
       "\n",
       "      count       age       gap   recency  average_gap  churned  \n",
       "0 -0.725145  0.071682 -1.036844  1.411345    -0.731827        0  \n",
       "1  2.458196  0.923812  1.563061 -0.982436    -0.401234        1  \n",
       "2 -0.725145  0.256928 -1.036844  1.610827    -0.731827        1  "
      ]
     },
     "execution_count": 182,
     "metadata": {},
     "output_type": "execute_result"
    }
   ],
   "source": [
    "from sklearn.preprocessing import MinMaxScaler, StandardScaler, RobustScaler, QuantileTransformer\n",
    "scaler = StandardScaler()\n",
    "df_filtered_scaled = df_filtered.copy(deep=True)\n",
    "df_filtered_scaled[['aov', 'tov', 'count', 'age', 'gap', 'recency', 'average_gap']] = scaler.fit_transform(df_filtered_scaled[['aov', 'tov', 'count', 'age', 'gap', 'recency', 'average_gap']])\n",
    "df_filtered_scaled.head(3)"
   ]
  },
  {
   "cell_type": "markdown",
   "id": "175fb4b8-f270-4fc1-983d-078da65edf62",
   "metadata": {},
   "source": [
    "#### 3.1.4. Split data into train and test"
   ]
  },
  {
   "cell_type": "code",
   "execution_count": 183,
   "id": "551ac0e0-3ba5-424d-98ed-f68a46e0e1fd",
   "metadata": {},
   "outputs": [
    {
     "name": "stdout",
     "output_type": "stream",
     "text": [
      "Total users(18796) = Test(15036) + Train (3760)\n"
     ]
    }
   ],
   "source": [
    "from sklearn.model_selection import GroupShuffleSplit \n",
    "\n",
    "splitter = GroupShuffleSplit(test_size=.20, n_splits=2, random_state = 7)\n",
    "split = splitter.split(df_filtered_scaled, groups=df_filtered_scaled['user_id'])\n",
    "train_inds, test_inds = next(split)\n",
    "\n",
    "train_df = df_filtered.iloc[train_inds]\n",
    "test_df = df_filtered.iloc[test_inds]\n",
    "\n",
    "train_df_scaled = df_filtered_scaled.iloc[train_inds]\n",
    "test_df_scaled = df_filtered_scaled.iloc[test_inds]\n",
    "\n",
    "print(\"Total users({}) = Test({}) + Train ({})\".format(df_filtered_scaled['user_id'].nunique(), train_df['user_id'].nunique(), test_df['user_id'].nunique()))"
   ]
  },
  {
   "cell_type": "markdown",
   "id": "5a1faae6-be5b-49e7-9575-1b79aac7c0a7",
   "metadata": {},
   "source": [
    "#### 3.1.5. Model training"
   ]
  },
  {
   "cell_type": "code",
   "execution_count": 184,
   "id": "14f08893-8308-40db-b492-552b93d9d925",
   "metadata": {},
   "outputs": [],
   "source": [
    "X_train = train_df_scaled[['aov', 'tov', 'count', 'age', 'gap', 'average_gap']]\n",
    "Y_train = train_df_scaled['churned']\n",
    "\n",
    "X_test = test_df_scaled[['aov', 'tov', 'count', 'age', 'gap', 'average_gap']]\n",
    "Y_test = test_df_scaled['churned']"
   ]
  },
  {
   "cell_type": "code",
   "execution_count": 185,
   "id": "c05cf432-938c-4e30-a911-12c7940d2c87",
   "metadata": {},
   "outputs": [],
   "source": [
    "from sklearn.ensemble import RandomForestClassifier\n",
    "from sklearn.linear_model import LogisticRegression\n",
    "\n",
    "from sklearn.metrics import classification_report, roc_auc_score"
   ]
  },
  {
   "cell_type": "code",
   "execution_count": 211,
   "id": "1c4b266c-55b4-4272-8730-f80566257dcb",
   "metadata": {},
   "outputs": [
    {
     "name": "stdout",
     "output_type": "stream",
     "text": [
      "Accuracy of RF model: 0.73\n",
      "Classification report: \n",
      "              precision    recall  f1-score   support\n",
      "\n",
      "           0       0.71      0.72      0.71      1786\n",
      "           1       0.74      0.73      0.74      1974\n",
      "\n",
      "    accuracy                           0.73      3760\n",
      "   macro avg       0.73      0.73      0.73      3760\n",
      "weighted avg       0.73      0.73      0.73      3760\n",
      "\n",
      "ROC-AOC score: 0.8124690120502706\n"
     ]
    }
   ],
   "source": [
    "rf_clf = RandomForestClassifier()\n",
    "rf_clf.fit(X_train, Y_train)\n",
    "\n",
    "accuracy = rf_clf.score(X_test, Y_test)\n",
    "print(\"Accuracy of RF model: {}\".format(round(accuracy, 2)))\n",
    "\n",
    "print(\"Classification report: \")\n",
    "print(classification_report(Y_test, rf_clf.predict(X_test)))\n",
    "\n",
    "print(\"ROC-AOC score: {}\".format(roc_auc_score(Y_test, clf.predict_proba(X_test)[:,1]) ))"
   ]
  },
  {
   "cell_type": "code",
   "execution_count": 223,
   "id": "40ea4b46-d50c-453d-a5c0-500849029996",
   "metadata": {},
   "outputs": [
    {
     "data": {
      "image/png": "[encoded data removed]",
      "text/plain": [
       "<Figure size 432x288 with 1 Axes>"
      ]
     },
     "metadata": {
      "needs_background": "light"
     },
     "output_type": "display_data"
    }
   ],
   "source": [
    "# Feature importance\n",
    "pd.DataFrame((zip(list(rf_clf.feature_names_in_), rf_clf.feature_importances_)), columns=['feature', 'importance']).plot.bar(x='feature', y='importance');"
   ]
  },
  {
   "cell_type": "code",
   "execution_count": 212,
   "id": "06dc8a1e-cfd8-4455-9dc1-41b1ebe42a81",
   "metadata": {},
   "outputs": [
    {
     "name": "stdout",
     "output_type": "stream",
     "text": [
      "Accuracy of LR model: 0.74\n",
      "Classification report: \n",
      "              precision    recall  f1-score   support\n",
      "\n",
      "           0       0.71      0.77      0.74      1786\n",
      "           1       0.78      0.72      0.75      1974\n",
      "\n",
      "    accuracy                           0.74      3760\n",
      "   macro avg       0.74      0.74      0.74      3760\n",
      "weighted avg       0.75      0.74      0.74      3760\n",
      "\n",
      "ROC-AOC score: 0.8124690120502706\n"
     ]
    }
   ],
   "source": [
    "lr_clf = LogisticRegression()\n",
    "lr_clf.fit(X_train, Y_train)\n",
    "\n",
    "accuracy = lr_clf.score(X_test, Y_test)\n",
    "print(\"Accuracy of LR model: {}\".format(round(accuracy, 2)))\n",
    "\n",
    "print(\"Classification report: \")\n",
    "print(classification_report(Y_test, lr_clf.predict(X_test)))\n",
    "\n",
    "print(\"ROC-AOC score: {}\".format(roc_auc_score(Y_test, clf.predict_proba(X_test)[:,1]) ))"
   ]
  },
  {
   "cell_type": "code",
   "execution_count": 235,
   "id": "9953332e-15ee-47da-b4d8-f6bf7902672e",
   "metadata": {},
   "outputs": [
    {
     "data": {
      "text/plain": [
       "array([0.12560574, 0.02919153, 0.70376546, 0.66645421, 1.28016495,\n",
       "       0.08321301])"
      ]
     },
     "execution_count": 235,
     "metadata": {},
     "output_type": "execute_result"
    }
   ],
   "source": []
  },
  {
   "cell_type": "code",
   "execution_count": 236,
   "id": "51e4fa11-7112-4b7d-9347-7d64c05c51d9",
   "metadata": {},
   "outputs": [
    {
     "data": {
      "image/png": "[encoded data removed]",
      "text/plain": [
       "<Figure size 432x288 with 1 Axes>"
      ]
     },
     "metadata": {
      "needs_background": "light"
     },
     "output_type": "display_data"
    }
   ],
   "source": [
    "# Feature importance\n",
    "pd.DataFrame((zip(list(lr_clf.feature_names_in_), abs(lr_clf.coef_[0]))), columns=['feature', 'importance']).plot.bar(x='feature', y='importance');"
   ]
  },
  {
   "cell_type": "code",
   "execution_count": null,
   "id": "53679bb4-3fe7-4810-946f-9f713cfc871c",
   "metadata": {},
   "outputs": [],
   "source": [
    "# Clearly we can see that Logistic regression performs better than Random forest model\n",
    "# Also we can reduce model complexity"
   ]
  }
 ],
 "metadata": {
  "kernelspec": {
   "display_name": "Python 3 (ipykernel)",
   "language": "python",
   "name": "python3"
  },
  "language_info": {
   "codemirror_mode": {
    "name": "ipython",
    "version": 3
   },
   "file_extension": ".py",
   "mimetype": "text/x-python",
   "name": "python",
   "nbconvert_exporter": "python",
   "pygments_lexer": "ipython3",
   "version": "3.9.12"
  }
 },
 "nbformat": 4,
 "nbformat_minor": 5
}
